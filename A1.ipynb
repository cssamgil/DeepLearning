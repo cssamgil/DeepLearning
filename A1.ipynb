{
  "nbformat": 4,
  "nbformat_minor": 0,
  "metadata": {
    "kernelspec": {
      "display_name": "Python 3",
      "language": "python",
      "name": "python3"
    },
    "language_info": {
      "codemirror_mode": {
        "name": "ipython",
        "version": 3
      },
      "file_extension": ".py",
      "mimetype": "text/x-python",
      "name": "python",
      "nbconvert_exporter": "python",
      "pygments_lexer": "ipython3",
      "version": "3.6.5"
    },
    "colab": {
      "provenance": [],
      "toc_visible": true
    },
    "accelerator": "GPU"
  },
  "cells": [
    {
      "cell_type": "markdown",
      "metadata": {
        "id": "Whf_8TEO-6qX"
      },
      "source": [
        "# CAP 6619 - Deep Learning - Dr Marques\n",
        "## Project 1\n",
        "## Handwritten Digit Classifier Using the MNIST Dataset"
      ]
    },
    {
      "cell_type": "markdown",
      "metadata": {
        "id": "32AXUOrLxvoD"
      },
      "source": [
        "Useful references and sources:\n",
        "\n",
        "- https://www.tensorflow.org/datasets/catalog/mnist\n",
        "\n",
        "- https://en.wikipedia.org/wiki/MNIST_database\n",
        "\n",
        "- https://keras.io/examples/vision/mnist_convnet/\n",
        "\n",
        "- https://github.com/the-deep-learners/deep-learning-illustrated/blob/master/notebooks/shallow_net_in_keras.ipynb"
      ]
    },
    {
      "cell_type": "markdown",
      "metadata": {
        "id": "o_i0NIxeykr0"
      },
      "source": [
        "### (OPTIONAL) TODO 1\n",
        "\n",
        "https://scikit-learn.org/stable/auto_examples/classification/plot_digits_classification.html"
      ]
    },
    {
      "cell_type": "markdown",
      "metadata": {
        "id": "2u-hfaHC-6qb"
      },
      "source": [
        "## Setup"
      ]
    },
    {
      "cell_type": "code",
      "metadata": {
        "id": "1H7CSr4a-6qb"
      },
      "source": [
        "from tensorflow import keras\n",
        "from keras.datasets import mnist\n",
        "from keras.models import Sequential\n",
        "from keras.layers import Dense\n",
        "from tensorflow.keras.optimizers import SGD\n",
        "\n",
        "from tensorflow.keras import layers\n",
        "\n",
        "from matplotlib import pyplot as plt\n",
        "\n",
        "import numpy as np"
      ],
      "execution_count": null,
      "outputs": []
    },
    {
      "cell_type": "markdown",
      "metadata": {
        "id": "dxNd2jV5-6qg"
      },
      "source": [
        "## Load and prepare the data"
      ]
    },
    {
      "cell_type": "code",
      "metadata": {
        "id": "AL5uSsG5EoEw",
        "colab": {
          "base_uri": "https://localhost:8080/"
        },
        "outputId": "459dda6b-8e8e-4925-ba7e-e1b7de634228"
      },
      "source": [
        "# Model / data parameters\n",
        "num_classes = 10\n",
        "input_shape = (28, 28, 1)\n",
        "\n",
        "# the data, split between train and validation sets\n",
        "(X_train, y_train), (X_valid, y_valid) = mnist.load_data()"
      ],
      "execution_count": null,
      "outputs": [
        {
          "output_type": "stream",
          "name": "stdout",
          "text": [
            "Downloading data from https://storage.googleapis.com/tensorflow/tf-keras-datasets/mnist.npz\n",
            "11490434/11490434 [==============================] - 0s 0us/step\n"
          ]
        }
      ]
    },
    {
      "cell_type": "code",
      "metadata": {
        "id": "x2jsR31jEqYn",
        "colab": {
          "base_uri": "https://localhost:8080/"
        },
        "outputId": "4ea3d0e0-0c29-47c3-afb1-56f480b7a47e"
      },
      "source": [
        "X_train.shape"
      ],
      "execution_count": null,
      "outputs": [
        {
          "output_type": "execute_result",
          "data": {
            "text/plain": [
              "(60000, 28, 28)"
            ]
          },
          "metadata": {},
          "execution_count": 3
        }
      ]
    },
    {
      "cell_type": "code",
      "metadata": {
        "id": "EOXe9zdD-6qp",
        "colab": {
          "base_uri": "https://localhost:8080/"
        },
        "outputId": "cbbe6108-20e0-4733-a3c3-4ba2305bf3d5"
      },
      "source": [
        "y_train.shape"
      ],
      "execution_count": null,
      "outputs": [
        {
          "output_type": "execute_result",
          "data": {
            "text/plain": [
              "(60000,)"
            ]
          },
          "metadata": {},
          "execution_count": 4
        }
      ]
    },
    {
      "cell_type": "code",
      "metadata": {
        "id": "99XuEIZf-6qr",
        "colab": {
          "base_uri": "https://localhost:8080/"
        },
        "outputId": "dbf32146-9c45-4330-d657-af9bc49286d6"
      },
      "source": [
        "y_train[0:12]"
      ],
      "execution_count": null,
      "outputs": [
        {
          "output_type": "execute_result",
          "data": {
            "text/plain": [
              "array([5, 0, 4, 1, 9, 2, 1, 3, 1, 4, 3, 5], dtype=uint8)"
            ]
          },
          "metadata": {},
          "execution_count": 5
        }
      ]
    },
    {
      "cell_type": "code",
      "metadata": {
        "id": "Rcidoo4X-6qt",
        "colab": {
          "base_uri": "https://localhost:8080/",
          "height": 327
        },
        "outputId": "c0a37716-b7fa-4818-e415-b84c4e69dd73"
      },
      "source": [
        "plt.figure(figsize=(5,5))\n",
        "for k in range(12):\n",
        "    plt.subplot(3, 4, k+1)\n",
        "    plt.imshow(X_train[k], cmap='Greys')\n",
        "    plt.axis('off')\n",
        "plt.tight_layout()\n",
        "plt.show()"
      ],
      "execution_count": null,
      "outputs": [
        {
          "output_type": "display_data",
          "data": {
            "text/plain": [
              "<Figure size 360x360 with 12 Axes>"
            ],
            "image/png": "[encoded data removed]"
          },
          "metadata": {
            "needs_background": "light"
          }
        }
      ]
    },
    {
      "cell_type": "code",
      "metadata": {
        "id": "xL2vkR3jO2md",
        "colab": {
          "base_uri": "https://localhost:8080/"
        },
        "outputId": "46be221f-16ce-41bb-851b-01c2f8c6c323"
      },
      "source": [
        "X_valid.shape"
      ],
      "execution_count": null,
      "outputs": [
        {
          "output_type": "execute_result",
          "data": {
            "text/plain": [
              "(10000, 28, 28)"
            ]
          },
          "metadata": {},
          "execution_count": 7
        }
      ]
    },
    {
      "cell_type": "code",
      "metadata": {
        "id": "GKtAwVhYO34o",
        "colab": {
          "base_uri": "https://localhost:8080/"
        },
        "outputId": "79be3f99-1043-4054-cb7d-02645cc6ace5"
      },
      "source": [
        "y_valid.shape"
      ],
      "execution_count": null,
      "outputs": [
        {
          "output_type": "execute_result",
          "data": {
            "text/plain": [
              "(10000,)"
            ]
          },
          "metadata": {},
          "execution_count": 8
        }
      ]
    },
    {
      "cell_type": "code",
      "metadata": {
        "id": "rITLTiol7eZH",
        "colab": {
          "base_uri": "https://localhost:8080/"
        },
        "outputId": "698e33ef-507c-473b-c912-f94dd6cffe68"
      },
      "source": [
        "y_valid[0]"
      ],
      "execution_count": null,
      "outputs": [
        {
          "output_type": "execute_result",
          "data": {
            "text/plain": [
              "7"
            ]
          },
          "metadata": {},
          "execution_count": 9
        }
      ]
    },
    {
      "cell_type": "code",
      "metadata": {
        "id": "v7wsvxTt7iZO",
        "colab": {
          "base_uri": "https://localhost:8080/",
          "height": 248
        },
        "outputId": "d87af7d1-33d2-4834-e680-ccbc15d9f90f"
      },
      "source": [
        "plt.imshow(X_valid[0], cmap='Greys')\n",
        "plt.axis('off')\n",
        "plt.show()"
      ],
      "execution_count": null,
      "outputs": [
        {
          "output_type": "display_data",
          "data": {
            "text/plain": [
              "<Figure size 432x288 with 1 Axes>"
            ],
            "image/png": "[encoded data removed]"
          },
          "metadata": {
            "needs_background": "light"
          }
        }
      ]
    },
    {
      "cell_type": "code",
      "metadata": {
        "id": "lKSraXzh-6qw",
        "colab": {
          "base_uri": "https://localhost:8080/"
        },
        "outputId": "1aa6404f-ea6b-49ad-a47a-03ee798231c3"
      },
      "source": [
        "# Reshape (flatten) images\n",
        "X_train_reshaped = X_train.reshape(60000, 784).astype('float32')\n",
        "X_valid_reshaped = X_valid.reshape(10000, 784).astype('float32')\n",
        "\n",
        "# Scale images to the [0, 1] range\n",
        "X_train_scaled_reshaped = X_train_reshaped / 255\n",
        "X_valid_scaled_reshaped = X_valid_reshaped / 255\n",
        "\n",
        "# Renaming for conciseness\n",
        "X_training = X_train_scaled_reshaped\n",
        "X_validation = X_valid_scaled_reshaped\n",
        "\n",
        "print(\"X_training shape (after reshaping + scaling):\", X_training.shape)\n",
        "print(X_training.shape[0], \"train samples\")\n",
        "print(\"X_validation shape (after reshaping + scaling):\", X_validation.shape)\n",
        "print(X_validation.shape[0], \"validation samples\")"
      ],
      "execution_count": null,
      "outputs": [
        {
          "output_type": "stream",
          "name": "stdout",
          "text": [
            "X_training shape (after reshaping + scaling): (60000, 784)\n",
            "60000 train samples\n",
            "X_validation shape (after reshaping + scaling): (10000, 784)\n",
            "10000 validation samples\n"
          ]
        }
      ]
    },
    {
      "cell_type": "code",
      "metadata": {
        "id": "amUBlLnG-6qz"
      },
      "source": [
        "# convert class vectors to binary class matrices\n",
        "y_training = keras.utils.to_categorical(y_train, num_classes)\n",
        "y_validation = keras.utils.to_categorical(y_valid, num_classes)"
      ],
      "execution_count": null,
      "outputs": []
    },
    {
      "cell_type": "code",
      "metadata": {
        "id": "QRX6auItPqtX",
        "colab": {
          "base_uri": "https://localhost:8080/"
        },
        "outputId": "1bf38e98-30a2-496d-ddc0-c6213b5d5b22"
      },
      "source": [
        "print(y_valid[0])\n",
        "print(y_validation[0])"
      ],
      "execution_count": null,
      "outputs": [
        {
          "output_type": "stream",
          "name": "stdout",
          "text": [
            "7\n",
            "[0. 0. 0. 0. 0. 0. 0. 1. 0. 0.]\n"
          ]
        }
      ]
    },
    {
      "cell_type": "markdown",
      "metadata": {
        "id": "BEn1cfWJ-6rH"
      },
      "source": [
        "## PART 1 - Shallow neural network architecture"
      ]
    },
    {
      "cell_type": "code",
      "metadata": {
        "id": "r7CsGuzIKvZd"
      },
      "source": [
        "model = Sequential()\n",
        "model.add(Dense(64, activation='sigmoid', input_shape=(784,)))\n",
        "model.add(Dense(10, activation='softmax'))"
      ],
      "execution_count": null,
      "outputs": []
    },
    {
      "cell_type": "code",
      "metadata": {
        "id": "wQTQzXvJ-6rJ",
        "colab": {
          "base_uri": "https://localhost:8080/"
        },
        "outputId": "5e2dfbd2-954f-4356-8589-0cbe9f3c1a30"
      },
      "source": [
        "model.summary()"
      ],
      "execution_count": null,
      "outputs": [
        {
          "output_type": "stream",
          "name": "stdout",
          "text": [
            "Model: \"sequential\"\n",
            "_________________________________________________________________\n",
            " Layer (type)                Output Shape              Param #   \n",
            "=================================================================\n",
            " dense (Dense)               (None, 64)                50240     \n",
            "                                                                 \n",
            " dense_1 (Dense)             (None, 10)                650       \n",
            "                                                                 \n",
            "=================================================================\n",
            "Total params: 50,890\n",
            "Trainable params: 50,890\n",
            "Non-trainable params: 0\n",
            "_________________________________________________________________\n"
          ]
        }
      ]
    },
    {
      "cell_type": "code",
      "metadata": {
        "id": "p0KPx8Di-6rO",
        "colab": {
          "base_uri": "https://localhost:8080/"
        },
        "outputId": "03e6550f-6d4f-42c7-8ace-7f0c06e014de"
      },
      "source": [
        "(64*784)"
      ],
      "execution_count": null,
      "outputs": [
        {
          "output_type": "execute_result",
          "data": {
            "text/plain": [
              "50176"
            ]
          },
          "metadata": {},
          "execution_count": 16
        }
      ]
    },
    {
      "cell_type": "code",
      "metadata": {
        "id": "e7KDBMCS-6rQ",
        "colab": {
          "base_uri": "https://localhost:8080/"
        },
        "outputId": "43cedf63-f4b4-4823-91f8-eeb0977b6dd1"
      },
      "source": [
        "(64*784)+64"
      ],
      "execution_count": null,
      "outputs": [
        {
          "output_type": "execute_result",
          "data": {
            "text/plain": [
              "50240"
            ]
          },
          "metadata": {},
          "execution_count": 17
        }
      ]
    },
    {
      "cell_type": "code",
      "metadata": {
        "id": "ls_u6Lne-6rU",
        "colab": {
          "base_uri": "https://localhost:8080/"
        },
        "outputId": "473147de-22cb-47bd-f38b-95aec6956c6b"
      },
      "source": [
        "(10*64)+10"
      ],
      "execution_count": null,
      "outputs": [
        {
          "output_type": "execute_result",
          "data": {
            "text/plain": [
              "650"
            ]
          },
          "metadata": {},
          "execution_count": 18
        }
      ]
    },
    {
      "cell_type": "markdown",
      "metadata": {
        "id": "eflqPyf9-6rW"
      },
      "source": [
        "### Configure model"
      ]
    },
    {
      "cell_type": "code",
      "metadata": {
        "id": "ZxAxL41M-6rX"
      },
      "source": [
        "model.compile(\n",
        "    loss='mean_squared_error',\n",
        "    optimizer=SGD(learning_rate=0.01),\n",
        "    metrics=['accuracy']\n",
        ")"
      ],
      "execution_count": null,
      "outputs": []
    },
    {
      "cell_type": "markdown",
      "metadata": {
        "id": "eK2qXanIRXee"
      },
      "source": [
        "### (OPTIONAL) TODO 2\n",
        "\n",
        "Try different options for `loss` and `optimizer`, for example:\n",
        "```\n",
        "model.compile(\n",
        "  optimizer='adam',\n",
        "  loss='categorical_crossentropy',\n",
        "  metrics=['accuracy']\n",
        ")\n",
        "```"
      ]
    },
    {
      "cell_type": "markdown",
      "metadata": {
        "id": "DId95CJ_-6rY"
      },
      "source": [
        "### Train!"
      ]
    },
    {
      "cell_type": "code",
      "metadata": {
        "id": "OGws4yu8-6rZ",
        "colab": {
          "base_uri": "https://localhost:8080/"
        },
        "outputId": "368f4a10-6353-4a71-ec25-8cf7aa4b04ca"
      },
      "source": [
        "batch_size=128\n",
        "epochs=500\n",
        "\n",
        "history = model.fit(\n",
        "  X_training, # training data\n",
        "  y_training, # training targets\n",
        "  epochs=epochs,\n",
        "  batch_size=batch_size,\n",
        "  verbose=1,\n",
        "  validation_data=(X_validation, y_validation)\n",
        ")"
      ],
      "execution_count": null,
      "outputs": [
        {
          "output_type": "stream",
          "name": "stdout",
          "text": [
            "Epoch 1/500\n",
            "469/469 [==============================] - 5s 5ms/step - loss: 0.0947 - accuracy: 0.0988 - val_loss: 0.0935 - val_accuracy: 0.1012\n",
            "Epoch 2/500\n",
            "469/469 [==============================] - 1s 3ms/step - loss: 0.0927 - accuracy: 0.1161 - val_loss: 0.0921 - val_accuracy: 0.1211\n",
            "Epoch 3/500\n",
            "469/469 [==============================] - 1s 3ms/step - loss: 0.0916 - accuracy: 0.1355 - val_loss: 0.0913 - val_accuracy: 0.1407\n",
            "Epoch 4/500\n",
            "469/469 [==============================] - 1s 3ms/step - loss: 0.0909 - accuracy: 0.1498 - val_loss: 0.0907 - val_accuracy: 0.1507\n",
            "Epoch 5/500\n",
            "469/469 [==============================] - 1s 3ms/step - loss: 0.0904 - accuracy: 0.1629 - val_loss: 0.0902 - val_accuracy: 0.1634\n",
            "Epoch 6/500\n",
            "469/469 [==============================] - 1s 3ms/step - loss: 0.0899 - accuracy: 0.1770 - val_loss: 0.0898 - val_accuracy: 0.1802\n",
            "Epoch 7/500\n",
            "469/469 [==============================] - 1s 3ms/step - loss: 0.0895 - accuracy: 0.2059 - val_loss: 0.0894 - val_accuracy: 0.2143\n",
            "Epoch 8/500\n",
            "469/469 [==============================] - 1s 3ms/step - loss: 0.0892 - accuracy: 0.2430 - val_loss: 0.0890 - val_accuracy: 0.2541\n",
            "Epoch 9/500\n",
            "469/469 [==============================] - 1s 3ms/step - loss: 0.0888 - accuracy: 0.2753 - val_loss: 0.0887 - val_accuracy: 0.2797\n",
            "Epoch 10/500\n",
            "469/469 [==============================] - 1s 3ms/step - loss: 0.0885 - accuracy: 0.2965 - val_loss: 0.0884 - val_accuracy: 0.2962\n",
            "Epoch 11/500\n",
            "469/469 [==============================] - 1s 3ms/step - loss: 0.0882 - accuracy: 0.3074 - val_loss: 0.0880 - val_accuracy: 0.3043\n",
            "Epoch 12/500\n",
            "469/469 [==============================] - 1s 3ms/step - loss: 0.0878 - accuracy: 0.3129 - val_loss: 0.0877 - val_accuracy: 0.3087\n",
            "Epoch 13/500\n",
            "469/469 [==============================] - 2s 4ms/step - loss: 0.0875 - accuracy: 0.3146 - val_loss: 0.0874 - val_accuracy: 0.3104\n",
            "Epoch 14/500\n",
            "469/469 [==============================] - 1s 3ms/step - loss: 0.0872 - accuracy: 0.3168 - val_loss: 0.0870 - val_accuracy: 0.3112\n",
            "Epoch 15/500\n",
            "469/469 [==============================] - 1s 3ms/step - loss: 0.0869 - accuracy: 0.3195 - val_loss: 0.0867 - val_accuracy: 0.3133\n",
            "Epoch 16/500\n",
            "469/469 [==============================] - 2s 3ms/step - loss: 0.0865 - accuracy: 0.3238 - val_loss: 0.0863 - val_accuracy: 0.3222\n",
            "Epoch 17/500\n",
            "469/469 [==============================] - 1s 3ms/step - loss: 0.0862 - accuracy: 0.3377 - val_loss: 0.0860 - val_accuracy: 0.3502\n",
            "Epoch 18/500\n",
            "469/469 [==============================] - 1s 3ms/step - loss: 0.0858 - accuracy: 0.3676 - val_loss: 0.0856 - val_accuracy: 0.3834\n",
            "Epoch 19/500\n",
            "469/469 [==============================] - 1s 3ms/step - loss: 0.0855 - accuracy: 0.3945 - val_loss: 0.0853 - val_accuracy: 0.4040\n",
            "Epoch 20/500\n",
            "469/469 [==============================] - 1s 3ms/step - loss: 0.0851 - accuracy: 0.4156 - val_loss: 0.0849 - val_accuracy: 0.4259\n",
            "Epoch 21/500\n",
            "469/469 [==============================] - 1s 3ms/step - loss: 0.0848 - accuracy: 0.4318 - val_loss: 0.0845 - val_accuracy: 0.4400\n",
            "Epoch 22/500\n",
            "469/469 [==============================] - 2s 3ms/step - loss: 0.0844 - accuracy: 0.4429 - val_loss: 0.0841 - val_accuracy: 0.4497\n",
            "Epoch 23/500\n",
            "469/469 [==============================] - 2s 3ms/step - loss: 0.0840 - accuracy: 0.4511 - val_loss: 0.0838 - val_accuracy: 0.4587\n",
            "Epoch 24/500\n",
            "469/469 [==============================] - 2s 3ms/step - loss: 0.0836 - accuracy: 0.4610 - val_loss: 0.0834 - val_accuracy: 0.4665\n",
            "Epoch 25/500\n",
            "469/469 [==============================] - 2s 3ms/step - loss: 0.0832 - accuracy: 0.4677 - val_loss: 0.0830 - val_accuracy: 0.4726\n",
            "Epoch 26/500\n",
            "469/469 [==============================] - 1s 3ms/step - loss: 0.0829 - accuracy: 0.4748 - val_loss: 0.0826 - val_accuracy: 0.4765\n",
            "Epoch 27/500\n",
            "469/469 [==============================] - 2s 3ms/step - loss: 0.0825 - accuracy: 0.4789 - val_loss: 0.0822 - val_accuracy: 0.4821\n",
            "Epoch 28/500\n",
            "469/469 [==============================] - 1s 3ms/step - loss: 0.0821 - accuracy: 0.4838 - val_loss: 0.0817 - val_accuracy: 0.4864\n",
            "Epoch 29/500\n",
            "469/469 [==============================] - 2s 3ms/step - loss: 0.0816 - accuracy: 0.4884 - val_loss: 0.0813 - val_accuracy: 0.4907\n",
            "Epoch 30/500\n",
            "469/469 [==============================] - 1s 3ms/step - loss: 0.0812 - accuracy: 0.4935 - val_loss: 0.0809 - val_accuracy: 0.4944\n",
            "Epoch 31/500\n",
            "469/469 [==============================] - 1s 3ms/step - loss: 0.0808 - accuracy: 0.4991 - val_loss: 0.0805 - val_accuracy: 0.4998\n",
            "Epoch 32/500\n",
            "469/469 [==============================] - 1s 3ms/step - loss: 0.0804 - accuracy: 0.5012 - val_loss: 0.0800 - val_accuracy: 0.5041\n",
            "Epoch 33/500\n",
            "469/469 [==============================] - 2s 3ms/step - loss: 0.0800 - accuracy: 0.5057 - val_loss: 0.0796 - val_accuracy: 0.5076\n",
            "Epoch 34/500\n",
            "469/469 [==============================] - 2s 3ms/step - loss: 0.0795 - accuracy: 0.5103 - val_loss: 0.0792 - val_accuracy: 0.5107\n",
            "Epoch 35/500\n",
            "469/469 [==============================] - 1s 3ms/step - loss: 0.0791 - accuracy: 0.5141 - val_loss: 0.0787 - val_accuracy: 0.5145\n",
            "Epoch 36/500\n",
            "469/469 [==============================] - 1s 3ms/step - loss: 0.0787 - accuracy: 0.5170 - val_loss: 0.0783 - val_accuracy: 0.5179\n",
            "Epoch 37/500\n",
            "469/469 [==============================] - 2s 3ms/step - loss: 0.0782 - accuracy: 0.5196 - val_loss: 0.0778 - val_accuracy: 0.5226\n",
            "Epoch 38/500\n",
            "469/469 [==============================] - 2s 3ms/step - loss: 0.0778 - accuracy: 0.5225 - val_loss: 0.0774 - val_accuracy: 0.5265\n",
            "Epoch 39/500\n",
            "469/469 [==============================] - 1s 3ms/step - loss: 0.0773 - accuracy: 0.5262 - val_loss: 0.0769 - val_accuracy: 0.5285\n",
            "Epoch 40/500\n",
            "469/469 [==============================] - 1s 3ms/step - loss: 0.0768 - accuracy: 0.5287 - val_loss: 0.0764 - val_accuracy: 0.5319\n",
            "Epoch 41/500\n",
            "469/469 [==============================] - 2s 3ms/step - loss: 0.0764 - accuracy: 0.5323 - val_loss: 0.0759 - val_accuracy: 0.5337\n",
            "Epoch 42/500\n",
            "469/469 [==============================] - 1s 3ms/step - loss: 0.0759 - accuracy: 0.5347 - val_loss: 0.0755 - val_accuracy: 0.5358\n",
            "Epoch 43/500\n",
            "469/469 [==============================] - 1s 3ms/step - loss: 0.0754 - accuracy: 0.5369 - val_loss: 0.0750 - val_accuracy: 0.5383\n",
            "Epoch 44/500\n",
            "469/469 [==============================] - 1s 3ms/step - loss: 0.0750 - accuracy: 0.5400 - val_loss: 0.0745 - val_accuracy: 0.5403\n",
            "Epoch 45/500\n",
            "469/469 [==============================] - 1s 3ms/step - loss: 0.0745 - accuracy: 0.5418 - val_loss: 0.0740 - val_accuracy: 0.5424\n",
            "Epoch 46/500\n",
            "469/469 [==============================] - 2s 4ms/step - loss: 0.0740 - accuracy: 0.5443 - val_loss: 0.0735 - val_accuracy: 0.5447\n",
            "Epoch 47/500\n",
            "469/469 [==============================] - 2s 3ms/step - loss: 0.0735 - accuracy: 0.5459 - val_loss: 0.0730 - val_accuracy: 0.5486\n",
            "Epoch 48/500\n",
            "469/469 [==============================] - 2s 3ms/step - loss: 0.0730 - accuracy: 0.5488 - val_loss: 0.0725 - val_accuracy: 0.5511\n",
            "Epoch 49/500\n",
            "469/469 [==============================] - 2s 3ms/step - loss: 0.0725 - accuracy: 0.5503 - val_loss: 0.0720 - val_accuracy: 0.5529\n",
            "Epoch 50/500\n",
            "469/469 [==============================] - 1s 3ms/step - loss: 0.0720 - accuracy: 0.5525 - val_loss: 0.0715 - val_accuracy: 0.5545\n",
            "Epoch 51/500\n",
            "469/469 [==============================] - 2s 3ms/step - loss: 0.0715 - accuracy: 0.5546 - val_loss: 0.0710 - val_accuracy: 0.5571\n",
            "Epoch 52/500\n",
            "469/469 [==============================] - 1s 3ms/step - loss: 0.0710 - accuracy: 0.5554 - val_loss: 0.0705 - val_accuracy: 0.5600\n",
            "Epoch 53/500\n",
            "469/469 [==============================] - 1s 3ms/step - loss: 0.0705 - accuracy: 0.5574 - val_loss: 0.0700 - val_accuracy: 0.5621\n",
            "Epoch 54/500\n",
            "469/469 [==============================] - 2s 3ms/step - loss: 0.0700 - accuracy: 0.5593 - val_loss: 0.0695 - val_accuracy: 0.5651\n",
            "Epoch 55/500\n",
            "469/469 [==============================] - 2s 3ms/step - loss: 0.0695 - accuracy: 0.5616 - val_loss: 0.0689 - val_accuracy: 0.5674\n",
            "Epoch 56/500\n",
            "469/469 [==============================] - 2s 3ms/step - loss: 0.0690 - accuracy: 0.5631 - val_loss: 0.0684 - val_accuracy: 0.5688\n",
            "Epoch 57/500\n",
            "469/469 [==============================] - 2s 3ms/step - loss: 0.0685 - accuracy: 0.5646 - val_loss: 0.0679 - val_accuracy: 0.5709\n",
            "Epoch 58/500\n",
            "469/469 [==============================] - 1s 3ms/step - loss: 0.0680 - accuracy: 0.5663 - val_loss: 0.0674 - val_accuracy: 0.5728\n",
            "Epoch 59/500\n",
            "469/469 [==============================] - 1s 3ms/step - loss: 0.0675 - accuracy: 0.5683 - val_loss: 0.0669 - val_accuracy: 0.5760\n",
            "Epoch 60/500\n",
            "469/469 [==============================] - 2s 3ms/step - loss: 0.0670 - accuracy: 0.5707 - val_loss: 0.0664 - val_accuracy: 0.5774\n",
            "Epoch 61/500\n",
            "469/469 [==============================] - 2s 3ms/step - loss: 0.0665 - accuracy: 0.5729 - val_loss: 0.0659 - val_accuracy: 0.5801\n",
            "Epoch 62/500\n",
            "469/469 [==============================] - 2s 3ms/step - loss: 0.0660 - accuracy: 0.5751 - val_loss: 0.0654 - val_accuracy: 0.5823\n",
            "Epoch 63/500\n",
            "469/469 [==============================] - 2s 4ms/step - loss: 0.0655 - accuracy: 0.5777 - val_loss: 0.0649 - val_accuracy: 0.5848\n",
            "Epoch 64/500\n",
            "469/469 [==============================] - 2s 4ms/step - loss: 0.0650 - accuracy: 0.5799 - val_loss: 0.0644 - val_accuracy: 0.5872\n",
            "Epoch 65/500\n",
            "469/469 [==============================] - 2s 3ms/step - loss: 0.0645 - accuracy: 0.5830 - val_loss: 0.0639 - val_accuracy: 0.5900\n",
            "Epoch 66/500\n",
            "469/469 [==============================] - 2s 3ms/step - loss: 0.0640 - accuracy: 0.5856 - val_loss: 0.0634 - val_accuracy: 0.5921\n",
            "Epoch 67/500\n",
            "469/469 [==============================] - 2s 3ms/step - loss: 0.0635 - accuracy: 0.5888 - val_loss: 0.0629 - val_accuracy: 0.5947\n",
            "Epoch 68/500\n",
            "469/469 [==============================] - 2s 4ms/step - loss: 0.0630 - accuracy: 0.5911 - val_loss: 0.0624 - val_accuracy: 0.5984\n",
            "Epoch 69/500\n",
            "469/469 [==============================] - 2s 4ms/step - loss: 0.0626 - accuracy: 0.5942 - val_loss: 0.0620 - val_accuracy: 0.6008\n",
            "Epoch 70/500\n",
            "469/469 [==============================] - 2s 3ms/step - loss: 0.0621 - accuracy: 0.5975 - val_loss: 0.0615 - val_accuracy: 0.6044\n",
            "Epoch 71/500\n",
            "469/469 [==============================] - 2s 4ms/step - loss: 0.0616 - accuracy: 0.6010 - val_loss: 0.0610 - val_accuracy: 0.6077\n",
            "Epoch 72/500\n",
            "469/469 [==============================] - 2s 4ms/step - loss: 0.0612 - accuracy: 0.6047 - val_loss: 0.0606 - val_accuracy: 0.6116\n",
            "Epoch 73/500\n",
            "469/469 [==============================] - 2s 3ms/step - loss: 0.0607 - accuracy: 0.6083 - val_loss: 0.0601 - val_accuracy: 0.6163\n",
            "Epoch 74/500\n",
            "469/469 [==============================] - 2s 4ms/step - loss: 0.0603 - accuracy: 0.6125 - val_loss: 0.0596 - val_accuracy: 0.6200\n",
            "Epoch 75/500\n",
            "469/469 [==============================] - 2s 3ms/step - loss: 0.0598 - accuracy: 0.6168 - val_loss: 0.0592 - val_accuracy: 0.6232\n",
            "Epoch 76/500\n",
            "469/469 [==============================] - 2s 3ms/step - loss: 0.0594 - accuracy: 0.6200 - val_loss: 0.0587 - val_accuracy: 0.6272\n",
            "Epoch 77/500\n",
            "469/469 [==============================] - 2s 3ms/step - loss: 0.0589 - accuracy: 0.6243 - val_loss: 0.0583 - val_accuracy: 0.6310\n",
            "Epoch 78/500\n",
            "469/469 [==============================] - 2s 3ms/step - loss: 0.0585 - accuracy: 0.6291 - val_loss: 0.0579 - val_accuracy: 0.6357\n",
            "Epoch 79/500\n",
            "469/469 [==============================] - 2s 4ms/step - loss: 0.0581 - accuracy: 0.6327 - val_loss: 0.0574 - val_accuracy: 0.6399\n",
            "Epoch 80/500\n",
            "469/469 [==============================] - 1s 3ms/step - loss: 0.0577 - accuracy: 0.6371 - val_loss: 0.0570 - val_accuracy: 0.6433\n",
            "Epoch 81/500\n",
            "469/469 [==============================] - 2s 3ms/step - loss: 0.0572 - accuracy: 0.6421 - val_loss: 0.0566 - val_accuracy: 0.6477\n",
            "Epoch 82/500\n",
            "469/469 [==============================] - 1s 3ms/step - loss: 0.0568 - accuracy: 0.6459 - val_loss: 0.0562 - val_accuracy: 0.6521\n",
            "Epoch 83/500\n",
            "469/469 [==============================] - 1s 3ms/step - loss: 0.0564 - accuracy: 0.6508 - val_loss: 0.0558 - val_accuracy: 0.6574\n",
            "Epoch 84/500\n",
            "469/469 [==============================] - 1s 3ms/step - loss: 0.0560 - accuracy: 0.6550 - val_loss: 0.0553 - val_accuracy: 0.6608\n",
            "Epoch 85/500\n",
            "469/469 [==============================] - 1s 3ms/step - loss: 0.0556 - accuracy: 0.6598 - val_loss: 0.0549 - val_accuracy: 0.6643\n",
            "Epoch 86/500\n",
            "469/469 [==============================] - 1s 3ms/step - loss: 0.0552 - accuracy: 0.6639 - val_loss: 0.0545 - val_accuracy: 0.6681\n",
            "Epoch 87/500\n",
            "469/469 [==============================] - 1s 3ms/step - loss: 0.0548 - accuracy: 0.6675 - val_loss: 0.0541 - val_accuracy: 0.6733\n",
            "Epoch 88/500\n",
            "469/469 [==============================] - 1s 3ms/step - loss: 0.0544 - accuracy: 0.6723 - val_loss: 0.0538 - val_accuracy: 0.6765\n",
            "Epoch 89/500\n",
            "469/469 [==============================] - 1s 3ms/step - loss: 0.0541 - accuracy: 0.6760 - val_loss: 0.0534 - val_accuracy: 0.6804\n",
            "Epoch 90/500\n",
            "469/469 [==============================] - 1s 3ms/step - loss: 0.0537 - accuracy: 0.6802 - val_loss: 0.0530 - val_accuracy: 0.6852\n",
            "Epoch 91/500\n",
            "469/469 [==============================] - 1s 3ms/step - loss: 0.0533 - accuracy: 0.6835 - val_loss: 0.0526 - val_accuracy: 0.6898\n",
            "Epoch 92/500\n",
            "469/469 [==============================] - 2s 3ms/step - loss: 0.0529 - accuracy: 0.6876 - val_loss: 0.0522 - val_accuracy: 0.6942\n",
            "Epoch 93/500\n",
            "469/469 [==============================] - 1s 3ms/step - loss: 0.0526 - accuracy: 0.6916 - val_loss: 0.0519 - val_accuracy: 0.6975\n",
            "Epoch 94/500\n",
            "469/469 [==============================] - 1s 3ms/step - loss: 0.0522 - accuracy: 0.6946 - val_loss: 0.0515 - val_accuracy: 0.7023\n",
            "Epoch 95/500\n",
            "469/469 [==============================] - 1s 3ms/step - loss: 0.0519 - accuracy: 0.6985 - val_loss: 0.0511 - val_accuracy: 0.7057\n",
            "Epoch 96/500\n",
            "469/469 [==============================] - 1s 3ms/step - loss: 0.0515 - accuracy: 0.7017 - val_loss: 0.0508 - val_accuracy: 0.7090\n",
            "Epoch 97/500\n",
            "469/469 [==============================] - 1s 3ms/step - loss: 0.0512 - accuracy: 0.7053 - val_loss: 0.0504 - val_accuracy: 0.7125\n",
            "Epoch 98/500\n",
            "469/469 [==============================] - 1s 3ms/step - loss: 0.0508 - accuracy: 0.7091 - val_loss: 0.0501 - val_accuracy: 0.7158\n",
            "Epoch 99/500\n",
            "469/469 [==============================] - 1s 3ms/step - loss: 0.0505 - accuracy: 0.7122 - val_loss: 0.0497 - val_accuracy: 0.7191\n",
            "Epoch 100/500\n",
            "469/469 [==============================] - 2s 3ms/step - loss: 0.0501 - accuracy: 0.7154 - val_loss: 0.0494 - val_accuracy: 0.7222\n",
            "Epoch 101/500\n",
            "469/469 [==============================] - 2s 3ms/step - loss: 0.0498 - accuracy: 0.7178 - val_loss: 0.0491 - val_accuracy: 0.7249\n",
            "Epoch 102/500\n",
            "469/469 [==============================] - 1s 3ms/step - loss: 0.0495 - accuracy: 0.7207 - val_loss: 0.0487 - val_accuracy: 0.7289\n",
            "Epoch 103/500\n",
            "469/469 [==============================] - 1s 3ms/step - loss: 0.0491 - accuracy: 0.7239 - val_loss: 0.0484 - val_accuracy: 0.7315\n",
            "Epoch 104/500\n",
            "469/469 [==============================] - 1s 3ms/step - loss: 0.0488 - accuracy: 0.7265 - val_loss: 0.0481 - val_accuracy: 0.7348\n",
            "Epoch 105/500\n",
            "469/469 [==============================] - 1s 3ms/step - loss: 0.0485 - accuracy: 0.7290 - val_loss: 0.0477 - val_accuracy: 0.7379\n",
            "Epoch 106/500\n",
            "469/469 [==============================] - 1s 3ms/step - loss: 0.0482 - accuracy: 0.7322 - val_loss: 0.0474 - val_accuracy: 0.7410\n",
            "Epoch 107/500\n",
            "469/469 [==============================] - 1s 3ms/step - loss: 0.0479 - accuracy: 0.7352 - val_loss: 0.0471 - val_accuracy: 0.7426\n",
            "Epoch 108/500\n",
            "469/469 [==============================] - 1s 3ms/step - loss: 0.0475 - accuracy: 0.7370 - val_loss: 0.0468 - val_accuracy: 0.7460\n",
            "Epoch 109/500\n",
            "469/469 [==============================] - 1s 3ms/step - loss: 0.0472 - accuracy: 0.7398 - val_loss: 0.0465 - val_accuracy: 0.7490\n",
            "Epoch 110/500\n",
            "469/469 [==============================] - 1s 3ms/step - loss: 0.0469 - accuracy: 0.7416 - val_loss: 0.0462 - val_accuracy: 0.7510\n",
            "Epoch 111/500\n",
            "469/469 [==============================] - 1s 3ms/step - loss: 0.0466 - accuracy: 0.7438 - val_loss: 0.0459 - val_accuracy: 0.7531\n",
            "Epoch 112/500\n",
            "469/469 [==============================] - 1s 3ms/step - loss: 0.0463 - accuracy: 0.7454 - val_loss: 0.0456 - val_accuracy: 0.7546\n",
            "Epoch 113/500\n",
            "469/469 [==============================] - 2s 3ms/step - loss: 0.0461 - accuracy: 0.7474 - val_loss: 0.0453 - val_accuracy: 0.7558\n",
            "Epoch 114/500\n",
            "469/469 [==============================] - 1s 3ms/step - loss: 0.0458 - accuracy: 0.7493 - val_loss: 0.0450 - val_accuracy: 0.7577\n",
            "Epoch 115/500\n",
            "469/469 [==============================] - 1s 3ms/step - loss: 0.0455 - accuracy: 0.7511 - val_loss: 0.0447 - val_accuracy: 0.7597\n",
            "Epoch 116/500\n",
            "469/469 [==============================] - 2s 3ms/step - loss: 0.0452 - accuracy: 0.7528 - val_loss: 0.0444 - val_accuracy: 0.7616\n",
            "Epoch 117/500\n",
            "469/469 [==============================] - 1s 3ms/step - loss: 0.0449 - accuracy: 0.7547 - val_loss: 0.0441 - val_accuracy: 0.7644\n",
            "Epoch 118/500\n",
            "469/469 [==============================] - 1s 3ms/step - loss: 0.0446 - accuracy: 0.7561 - val_loss: 0.0439 - val_accuracy: 0.7655\n",
            "Epoch 119/500\n",
            "469/469 [==============================] - 1s 3ms/step - loss: 0.0444 - accuracy: 0.7574 - val_loss: 0.0436 - val_accuracy: 0.7674\n",
            "Epoch 120/500\n",
            "469/469 [==============================] - 1s 3ms/step - loss: 0.0441 - accuracy: 0.7591 - val_loss: 0.0433 - val_accuracy: 0.7681\n",
            "Epoch 121/500\n",
            "469/469 [==============================] - 1s 3ms/step - loss: 0.0438 - accuracy: 0.7606 - val_loss: 0.0430 - val_accuracy: 0.7695\n",
            "Epoch 122/500\n",
            "469/469 [==============================] - 1s 3ms/step - loss: 0.0436 - accuracy: 0.7618 - val_loss: 0.0428 - val_accuracy: 0.7706\n",
            "Epoch 123/500\n",
            "469/469 [==============================] - 1s 3ms/step - loss: 0.0433 - accuracy: 0.7629 - val_loss: 0.0425 - val_accuracy: 0.7721\n",
            "Epoch 124/500\n",
            "469/469 [==============================] - 1s 3ms/step - loss: 0.0430 - accuracy: 0.7639 - val_loss: 0.0423 - val_accuracy: 0.7737\n",
            "Epoch 125/500\n",
            "469/469 [==============================] - 1s 3ms/step - loss: 0.0428 - accuracy: 0.7652 - val_loss: 0.0420 - val_accuracy: 0.7751\n",
            "Epoch 126/500\n",
            "469/469 [==============================] - 1s 3ms/step - loss: 0.0425 - accuracy: 0.7665 - val_loss: 0.0417 - val_accuracy: 0.7762\n",
            "Epoch 127/500\n",
            "469/469 [==============================] - 1s 3ms/step - loss: 0.0423 - accuracy: 0.7678 - val_loss: 0.0415 - val_accuracy: 0.7765\n",
            "Epoch 128/500\n",
            "469/469 [==============================] - 1s 3ms/step - loss: 0.0420 - accuracy: 0.7686 - val_loss: 0.0412 - val_accuracy: 0.7773\n",
            "Epoch 129/500\n",
            "469/469 [==============================] - 1s 3ms/step - loss: 0.0418 - accuracy: 0.7695 - val_loss: 0.0410 - val_accuracy: 0.7782\n",
            "Epoch 130/500\n",
            "469/469 [==============================] - 1s 3ms/step - loss: 0.0415 - accuracy: 0.7706 - val_loss: 0.0408 - val_accuracy: 0.7791\n",
            "Epoch 131/500\n",
            "469/469 [==============================] - 1s 3ms/step - loss: 0.0413 - accuracy: 0.7716 - val_loss: 0.0405 - val_accuracy: 0.7802\n",
            "Epoch 132/500\n",
            "469/469 [==============================] - 1s 3ms/step - loss: 0.0411 - accuracy: 0.7727 - val_loss: 0.0403 - val_accuracy: 0.7817\n",
            "Epoch 133/500\n",
            "469/469 [==============================] - 2s 3ms/step - loss: 0.0408 - accuracy: 0.7736 - val_loss: 0.0400 - val_accuracy: 0.7832\n",
            "Epoch 134/500\n",
            "469/469 [==============================] - 1s 3ms/step - loss: 0.0406 - accuracy: 0.7748 - val_loss: 0.0398 - val_accuracy: 0.7838\n",
            "Epoch 135/500\n",
            "469/469 [==============================] - 1s 3ms/step - loss: 0.0404 - accuracy: 0.7761 - val_loss: 0.0396 - val_accuracy: 0.7842\n",
            "Epoch 136/500\n",
            "469/469 [==============================] - 1s 3ms/step - loss: 0.0401 - accuracy: 0.7771 - val_loss: 0.0393 - val_accuracy: 0.7857\n",
            "Epoch 137/500\n",
            "469/469 [==============================] - 1s 3ms/step - loss: 0.0399 - accuracy: 0.7781 - val_loss: 0.0391 - val_accuracy: 0.7869\n",
            "Epoch 138/500\n",
            "469/469 [==============================] - 1s 3ms/step - loss: 0.0397 - accuracy: 0.7793 - val_loss: 0.0389 - val_accuracy: 0.7893\n",
            "Epoch 139/500\n",
            "469/469 [==============================] - 1s 3ms/step - loss: 0.0395 - accuracy: 0.7807 - val_loss: 0.0387 - val_accuracy: 0.7908\n",
            "Epoch 140/500\n",
            "469/469 [==============================] - 2s 3ms/step - loss: 0.0393 - accuracy: 0.7818 - val_loss: 0.0384 - val_accuracy: 0.7917\n",
            "Epoch 141/500\n",
            "469/469 [==============================] - 2s 4ms/step - loss: 0.0390 - accuracy: 0.7833 - val_loss: 0.0382 - val_accuracy: 0.7934\n",
            "Epoch 142/500\n",
            "469/469 [==============================] - 2s 3ms/step - loss: 0.0388 - accuracy: 0.7847 - val_loss: 0.0380 - val_accuracy: 0.7952\n",
            "Epoch 143/500\n",
            "469/469 [==============================] - 1s 3ms/step - loss: 0.0386 - accuracy: 0.7864 - val_loss: 0.0378 - val_accuracy: 0.7968\n",
            "Epoch 144/500\n",
            "469/469 [==============================] - 1s 3ms/step - loss: 0.0384 - accuracy: 0.7879 - val_loss: 0.0376 - val_accuracy: 0.7983\n",
            "Epoch 145/500\n",
            "469/469 [==============================] - 1s 3ms/step - loss: 0.0382 - accuracy: 0.7896 - val_loss: 0.0374 - val_accuracy: 0.7997\n",
            "Epoch 146/500\n",
            "469/469 [==============================] - 1s 3ms/step - loss: 0.0380 - accuracy: 0.7910 - val_loss: 0.0372 - val_accuracy: 0.8010\n",
            "Epoch 147/500\n",
            "469/469 [==============================] - 2s 3ms/step - loss: 0.0378 - accuracy: 0.7924 - val_loss: 0.0370 - val_accuracy: 0.8025\n",
            "Epoch 148/500\n",
            "469/469 [==============================] - 1s 3ms/step - loss: 0.0376 - accuracy: 0.7939 - val_loss: 0.0368 - val_accuracy: 0.8044\n",
            "Epoch 149/500\n",
            "469/469 [==============================] - 1s 3ms/step - loss: 0.0374 - accuracy: 0.7957 - val_loss: 0.0366 - val_accuracy: 0.8058\n",
            "Epoch 150/500\n",
            "469/469 [==============================] - 1s 3ms/step - loss: 0.0372 - accuracy: 0.7970 - val_loss: 0.0364 - val_accuracy: 0.8074\n",
            "Epoch 151/500\n",
            "469/469 [==============================] - 1s 3ms/step - loss: 0.0370 - accuracy: 0.7989 - val_loss: 0.0362 - val_accuracy: 0.8091\n",
            "Epoch 152/500\n",
            "469/469 [==============================] - 1s 3ms/step - loss: 0.0368 - accuracy: 0.8005 - val_loss: 0.0360 - val_accuracy: 0.8107\n",
            "Epoch 153/500\n",
            "469/469 [==============================] - 2s 3ms/step - loss: 0.0366 - accuracy: 0.8023 - val_loss: 0.0358 - val_accuracy: 0.8124\n",
            "Epoch 154/500\n",
            "469/469 [==============================] - 1s 3ms/step - loss: 0.0364 - accuracy: 0.8038 - val_loss: 0.0356 - val_accuracy: 0.8136\n",
            "Epoch 155/500\n",
            "469/469 [==============================] - 1s 3ms/step - loss: 0.0362 - accuracy: 0.8058 - val_loss: 0.0354 - val_accuracy: 0.8144\n",
            "Epoch 156/500\n",
            "469/469 [==============================] - 1s 3ms/step - loss: 0.0360 - accuracy: 0.8076 - val_loss: 0.0352 - val_accuracy: 0.8162\n",
            "Epoch 157/500\n",
            "469/469 [==============================] - 1s 3ms/step - loss: 0.0358 - accuracy: 0.8089 - val_loss: 0.0350 - val_accuracy: 0.8172\n",
            "Epoch 158/500\n",
            "469/469 [==============================] - 1s 3ms/step - loss: 0.0357 - accuracy: 0.8101 - val_loss: 0.0348 - val_accuracy: 0.8191\n",
            "Epoch 159/500\n",
            "469/469 [==============================] - 1s 3ms/step - loss: 0.0355 - accuracy: 0.8118 - val_loss: 0.0346 - val_accuracy: 0.8206\n",
            "Epoch 160/500\n",
            "469/469 [==============================] - 2s 3ms/step - loss: 0.0353 - accuracy: 0.8133 - val_loss: 0.0345 - val_accuracy: 0.8221\n",
            "Epoch 161/500\n",
            "469/469 [==============================] - 1s 3ms/step - loss: 0.0351 - accuracy: 0.8152 - val_loss: 0.0343 - val_accuracy: 0.8228\n",
            "Epoch 162/500\n",
            "469/469 [==============================] - 1s 3ms/step - loss: 0.0349 - accuracy: 0.8167 - val_loss: 0.0341 - val_accuracy: 0.8247\n",
            "Epoch 163/500\n",
            "469/469 [==============================] - 1s 3ms/step - loss: 0.0348 - accuracy: 0.8181 - val_loss: 0.0339 - val_accuracy: 0.8261\n",
            "Epoch 164/500\n",
            "469/469 [==============================] - 2s 4ms/step - loss: 0.0346 - accuracy: 0.8194 - val_loss: 0.0337 - val_accuracy: 0.8282\n",
            "Epoch 165/500\n",
            "469/469 [==============================] - 2s 3ms/step - loss: 0.0344 - accuracy: 0.8208 - val_loss: 0.0336 - val_accuracy: 0.8296\n",
            "Epoch 166/500\n",
            "469/469 [==============================] - 1s 3ms/step - loss: 0.0342 - accuracy: 0.8222 - val_loss: 0.0334 - val_accuracy: 0.8307\n",
            "Epoch 167/500\n",
            "469/469 [==============================] - 1s 3ms/step - loss: 0.0341 - accuracy: 0.8235 - val_loss: 0.0332 - val_accuracy: 0.8323\n",
            "Epoch 168/500\n",
            "469/469 [==============================] - 1s 3ms/step - loss: 0.0339 - accuracy: 0.8246 - val_loss: 0.0331 - val_accuracy: 0.8344\n",
            "Epoch 169/500\n",
            "469/469 [==============================] - 1s 3ms/step - loss: 0.0337 - accuracy: 0.8260 - val_loss: 0.0329 - val_accuracy: 0.8354\n",
            "Epoch 170/500\n",
            "469/469 [==============================] - 1s 3ms/step - loss: 0.0336 - accuracy: 0.8272 - val_loss: 0.0327 - val_accuracy: 0.8361\n",
            "Epoch 171/500\n",
            "469/469 [==============================] - 1s 3ms/step - loss: 0.0334 - accuracy: 0.8284 - val_loss: 0.0326 - val_accuracy: 0.8375\n",
            "Epoch 172/500\n",
            "469/469 [==============================] - 2s 3ms/step - loss: 0.0333 - accuracy: 0.8298 - val_loss: 0.0324 - val_accuracy: 0.8382\n",
            "Epoch 173/500\n",
            "469/469 [==============================] - 1s 3ms/step - loss: 0.0331 - accuracy: 0.8309 - val_loss: 0.0322 - val_accuracy: 0.8396\n",
            "Epoch 174/500\n",
            "469/469 [==============================] - 2s 3ms/step - loss: 0.0329 - accuracy: 0.8321 - val_loss: 0.0321 - val_accuracy: 0.8404\n",
            "Epoch 175/500\n",
            "469/469 [==============================] - 1s 3ms/step - loss: 0.0328 - accuracy: 0.8332 - val_loss: 0.0319 - val_accuracy: 0.8410\n",
            "Epoch 176/500\n",
            "469/469 [==============================] - 2s 3ms/step - loss: 0.0326 - accuracy: 0.8344 - val_loss: 0.0318 - val_accuracy: 0.8422\n",
            "Epoch 177/500\n",
            "469/469 [==============================] - 2s 4ms/step - loss: 0.0325 - accuracy: 0.8353 - val_loss: 0.0316 - val_accuracy: 0.8431\n",
            "Epoch 178/500\n",
            "469/469 [==============================] - 2s 3ms/step - loss: 0.0323 - accuracy: 0.8366 - val_loss: 0.0315 - val_accuracy: 0.8439\n",
            "Epoch 179/500\n",
            "469/469 [==============================] - 1s 3ms/step - loss: 0.0322 - accuracy: 0.8377 - val_loss: 0.0313 - val_accuracy: 0.8448\n",
            "Epoch 180/500\n",
            "469/469 [==============================] - 2s 4ms/step - loss: 0.0320 - accuracy: 0.8387 - val_loss: 0.0312 - val_accuracy: 0.8453\n",
            "Epoch 181/500\n",
            "469/469 [==============================] - 1s 3ms/step - loss: 0.0319 - accuracy: 0.8395 - val_loss: 0.0310 - val_accuracy: 0.8458\n",
            "Epoch 182/500\n",
            "469/469 [==============================] - 1s 3ms/step - loss: 0.0317 - accuracy: 0.8403 - val_loss: 0.0309 - val_accuracy: 0.8464\n",
            "Epoch 183/500\n",
            "469/469 [==============================] - 1s 3ms/step - loss: 0.0316 - accuracy: 0.8410 - val_loss: 0.0307 - val_accuracy: 0.8478\n",
            "Epoch 184/500\n",
            "469/469 [==============================] - 1s 3ms/step - loss: 0.0314 - accuracy: 0.8421 - val_loss: 0.0306 - val_accuracy: 0.8482\n",
            "Epoch 185/500\n",
            "469/469 [==============================] - 1s 3ms/step - loss: 0.0313 - accuracy: 0.8428 - val_loss: 0.0305 - val_accuracy: 0.8491\n",
            "Epoch 186/500\n",
            "469/469 [==============================] - 1s 3ms/step - loss: 0.0312 - accuracy: 0.8436 - val_loss: 0.0303 - val_accuracy: 0.8495\n",
            "Epoch 187/500\n",
            "469/469 [==============================] - 2s 3ms/step - loss: 0.0310 - accuracy: 0.8443 - val_loss: 0.0302 - val_accuracy: 0.8501\n",
            "Epoch 188/500\n",
            "469/469 [==============================] - 1s 3ms/step - loss: 0.0309 - accuracy: 0.8449 - val_loss: 0.0300 - val_accuracy: 0.8507\n",
            "Epoch 189/500\n",
            "469/469 [==============================] - 1s 3ms/step - loss: 0.0308 - accuracy: 0.8456 - val_loss: 0.0299 - val_accuracy: 0.8512\n",
            "Epoch 190/500\n",
            "469/469 [==============================] - 2s 3ms/step - loss: 0.0306 - accuracy: 0.8464 - val_loss: 0.0298 - val_accuracy: 0.8520\n",
            "Epoch 191/500\n",
            "469/469 [==============================] - 1s 3ms/step - loss: 0.0305 - accuracy: 0.8470 - val_loss: 0.0296 - val_accuracy: 0.8529\n",
            "Epoch 192/500\n",
            "469/469 [==============================] - 2s 3ms/step - loss: 0.0304 - accuracy: 0.8475 - val_loss: 0.0295 - val_accuracy: 0.8535\n",
            "Epoch 193/500\n",
            "469/469 [==============================] - 2s 3ms/step - loss: 0.0302 - accuracy: 0.8483 - val_loss: 0.0294 - val_accuracy: 0.8543\n",
            "Epoch 194/500\n",
            "469/469 [==============================] - 2s 3ms/step - loss: 0.0301 - accuracy: 0.8491 - val_loss: 0.0293 - val_accuracy: 0.8548\n",
            "Epoch 195/500\n",
            "469/469 [==============================] - 1s 3ms/step - loss: 0.0300 - accuracy: 0.8492 - val_loss: 0.0291 - val_accuracy: 0.8555\n",
            "Epoch 196/500\n",
            "469/469 [==============================] - 2s 3ms/step - loss: 0.0299 - accuracy: 0.8498 - val_loss: 0.0290 - val_accuracy: 0.8565\n",
            "Epoch 197/500\n",
            "469/469 [==============================] - 2s 3ms/step - loss: 0.0297 - accuracy: 0.8507 - val_loss: 0.0289 - val_accuracy: 0.8571\n",
            "Epoch 198/500\n",
            "469/469 [==============================] - 2s 3ms/step - loss: 0.0296 - accuracy: 0.8511 - val_loss: 0.0288 - val_accuracy: 0.8581\n",
            "Epoch 199/500\n",
            "469/469 [==============================] - 2s 3ms/step - loss: 0.0295 - accuracy: 0.8517 - val_loss: 0.0286 - val_accuracy: 0.8586\n",
            "Epoch 200/500\n",
            "469/469 [==============================] - 2s 3ms/step - loss: 0.0294 - accuracy: 0.8522 - val_loss: 0.0285 - val_accuracy: 0.8590\n",
            "Epoch 201/500\n",
            "469/469 [==============================] - 1s 3ms/step - loss: 0.0293 - accuracy: 0.8529 - val_loss: 0.0284 - val_accuracy: 0.8595\n",
            "Epoch 202/500\n",
            "469/469 [==============================] - 1s 3ms/step - loss: 0.0291 - accuracy: 0.8534 - val_loss: 0.0283 - val_accuracy: 0.8599\n",
            "Epoch 203/500\n",
            "469/469 [==============================] - 2s 3ms/step - loss: 0.0290 - accuracy: 0.8539 - val_loss: 0.0282 - val_accuracy: 0.8607\n",
            "Epoch 204/500\n",
            "469/469 [==============================] - 2s 3ms/step - loss: 0.0289 - accuracy: 0.8544 - val_loss: 0.0281 - val_accuracy: 0.8611\n",
            "Epoch 205/500\n",
            "469/469 [==============================] - 2s 4ms/step - loss: 0.0288 - accuracy: 0.8550 - val_loss: 0.0279 - val_accuracy: 0.8619\n",
            "Epoch 206/500\n",
            "469/469 [==============================] - 2s 3ms/step - loss: 0.0287 - accuracy: 0.8556 - val_loss: 0.0278 - val_accuracy: 0.8625\n",
            "Epoch 207/500\n",
            "469/469 [==============================] - 2s 4ms/step - loss: 0.0286 - accuracy: 0.8560 - val_loss: 0.0277 - val_accuracy: 0.8628\n",
            "Epoch 208/500\n",
            "469/469 [==============================] - 1s 3ms/step - loss: 0.0285 - accuracy: 0.8565 - val_loss: 0.0276 - val_accuracy: 0.8631\n",
            "Epoch 209/500\n",
            "469/469 [==============================] - 2s 3ms/step - loss: 0.0284 - accuracy: 0.8567 - val_loss: 0.0275 - val_accuracy: 0.8632\n",
            "Epoch 210/500\n",
            "469/469 [==============================] - 1s 3ms/step - loss: 0.0283 - accuracy: 0.8572 - val_loss: 0.0274 - val_accuracy: 0.8640\n",
            "Epoch 211/500\n",
            "469/469 [==============================] - 1s 3ms/step - loss: 0.0281 - accuracy: 0.8578 - val_loss: 0.0273 - val_accuracy: 0.8651\n",
            "Epoch 212/500\n",
            "469/469 [==============================] - 2s 3ms/step - loss: 0.0280 - accuracy: 0.8584 - val_loss: 0.0272 - val_accuracy: 0.8654\n",
            "Epoch 213/500\n",
            "469/469 [==============================] - 2s 3ms/step - loss: 0.0279 - accuracy: 0.8586 - val_loss: 0.0271 - val_accuracy: 0.8658\n",
            "Epoch 214/500\n",
            "469/469 [==============================] - 2s 3ms/step - loss: 0.0278 - accuracy: 0.8590 - val_loss: 0.0270 - val_accuracy: 0.8661\n",
            "Epoch 215/500\n",
            "469/469 [==============================] - 2s 3ms/step - loss: 0.0277 - accuracy: 0.8593 - val_loss: 0.0269 - val_accuracy: 0.8663\n",
            "Epoch 216/500\n",
            "469/469 [==============================] - 2s 3ms/step - loss: 0.0276 - accuracy: 0.8598 - val_loss: 0.0268 - val_accuracy: 0.8667\n",
            "Epoch 217/500\n",
            "469/469 [==============================] - 2s 3ms/step - loss: 0.0275 - accuracy: 0.8603 - val_loss: 0.0267 - val_accuracy: 0.8667\n",
            "Epoch 218/500\n",
            "469/469 [==============================] - 2s 4ms/step - loss: 0.0274 - accuracy: 0.8606 - val_loss: 0.0266 - val_accuracy: 0.8672\n",
            "Epoch 219/500\n",
            "469/469 [==============================] - 2s 3ms/step - loss: 0.0273 - accuracy: 0.8609 - val_loss: 0.0265 - val_accuracy: 0.8677\n",
            "Epoch 220/500\n",
            "469/469 [==============================] - 2s 3ms/step - loss: 0.0272 - accuracy: 0.8613 - val_loss: 0.0264 - val_accuracy: 0.8680\n",
            "Epoch 221/500\n",
            "469/469 [==============================] - 2s 3ms/step - loss: 0.0272 - accuracy: 0.8617 - val_loss: 0.0263 - val_accuracy: 0.8684\n",
            "Epoch 222/500\n",
            "469/469 [==============================] - 2s 3ms/step - loss: 0.0271 - accuracy: 0.8621 - val_loss: 0.0262 - val_accuracy: 0.8687\n",
            "Epoch 223/500\n",
            "469/469 [==============================] - 1s 3ms/step - loss: 0.0270 - accuracy: 0.8626 - val_loss: 0.0261 - val_accuracy: 0.8690\n",
            "Epoch 224/500\n",
            "469/469 [==============================] - 2s 3ms/step - loss: 0.0269 - accuracy: 0.8627 - val_loss: 0.0260 - val_accuracy: 0.8697\n",
            "Epoch 225/500\n",
            "469/469 [==============================] - 2s 3ms/step - loss: 0.0268 - accuracy: 0.8630 - val_loss: 0.0259 - val_accuracy: 0.8702\n",
            "Epoch 226/500\n",
            "469/469 [==============================] - 1s 3ms/step - loss: 0.0267 - accuracy: 0.8634 - val_loss: 0.0258 - val_accuracy: 0.8703\n",
            "Epoch 227/500\n",
            "469/469 [==============================] - 2s 3ms/step - loss: 0.0266 - accuracy: 0.8636 - val_loss: 0.0258 - val_accuracy: 0.8705\n",
            "Epoch 228/500\n",
            "469/469 [==============================] - 2s 3ms/step - loss: 0.0265 - accuracy: 0.8639 - val_loss: 0.0257 - val_accuracy: 0.8710\n",
            "Epoch 229/500\n",
            "469/469 [==============================] - 2s 3ms/step - loss: 0.0264 - accuracy: 0.8642 - val_loss: 0.0256 - val_accuracy: 0.8712\n",
            "Epoch 230/500\n",
            "469/469 [==============================] - 1s 3ms/step - loss: 0.0263 - accuracy: 0.8645 - val_loss: 0.0255 - val_accuracy: 0.8713\n",
            "Epoch 231/500\n",
            "469/469 [==============================] - 2s 3ms/step - loss: 0.0263 - accuracy: 0.8648 - val_loss: 0.0254 - val_accuracy: 0.8718\n",
            "Epoch 232/500\n",
            "469/469 [==============================] - 2s 3ms/step - loss: 0.0262 - accuracy: 0.8652 - val_loss: 0.0253 - val_accuracy: 0.8719\n",
            "Epoch 233/500\n",
            "469/469 [==============================] - 2s 3ms/step - loss: 0.0261 - accuracy: 0.8655 - val_loss: 0.0252 - val_accuracy: 0.8723\n",
            "Epoch 234/500\n",
            "469/469 [==============================] - 2s 3ms/step - loss: 0.0260 - accuracy: 0.8658 - val_loss: 0.0252 - val_accuracy: 0.8726\n",
            "Epoch 235/500\n",
            "469/469 [==============================] - 2s 3ms/step - loss: 0.0259 - accuracy: 0.8660 - val_loss: 0.0251 - val_accuracy: 0.8730\n",
            "Epoch 236/500\n",
            "469/469 [==============================] - 2s 3ms/step - loss: 0.0259 - accuracy: 0.8664 - val_loss: 0.0250 - val_accuracy: 0.8732\n",
            "Epoch 237/500\n",
            "469/469 [==============================] - 1s 3ms/step - loss: 0.0258 - accuracy: 0.8666 - val_loss: 0.0249 - val_accuracy: 0.8737\n",
            "Epoch 238/500\n",
            "469/469 [==============================] - 2s 3ms/step - loss: 0.0257 - accuracy: 0.8668 - val_loss: 0.0248 - val_accuracy: 0.8741\n",
            "Epoch 239/500\n",
            "469/469 [==============================] - 2s 3ms/step - loss: 0.0256 - accuracy: 0.8672 - val_loss: 0.0248 - val_accuracy: 0.8744\n",
            "Epoch 240/500\n",
            "469/469 [==============================] - 2s 3ms/step - loss: 0.0255 - accuracy: 0.8673 - val_loss: 0.0247 - val_accuracy: 0.8747\n",
            "Epoch 241/500\n",
            "469/469 [==============================] - 2s 3ms/step - loss: 0.0255 - accuracy: 0.8679 - val_loss: 0.0246 - val_accuracy: 0.8748\n",
            "Epoch 242/500\n",
            "469/469 [==============================] - 1s 3ms/step - loss: 0.0254 - accuracy: 0.8681 - val_loss: 0.0245 - val_accuracy: 0.8752\n",
            "Epoch 243/500\n",
            "469/469 [==============================] - 2s 3ms/step - loss: 0.0253 - accuracy: 0.8683 - val_loss: 0.0245 - val_accuracy: 0.8754\n",
            "Epoch 244/500\n",
            "469/469 [==============================] - 1s 3ms/step - loss: 0.0252 - accuracy: 0.8683 - val_loss: 0.0244 - val_accuracy: 0.8757\n",
            "Epoch 245/500\n",
            "469/469 [==============================] - 2s 3ms/step - loss: 0.0252 - accuracy: 0.8687 - val_loss: 0.0243 - val_accuracy: 0.8759\n",
            "Epoch 246/500\n",
            "469/469 [==============================] - 2s 3ms/step - loss: 0.0251 - accuracy: 0.8689 - val_loss: 0.0242 - val_accuracy: 0.8760\n",
            "Epoch 247/500\n",
            "469/469 [==============================] - 1s 3ms/step - loss: 0.0250 - accuracy: 0.8691 - val_loss: 0.0242 - val_accuracy: 0.8759\n",
            "Epoch 248/500\n",
            "469/469 [==============================] - 1s 3ms/step - loss: 0.0250 - accuracy: 0.8693 - val_loss: 0.0241 - val_accuracy: 0.8762\n",
            "Epoch 249/500\n",
            "469/469 [==============================] - 1s 3ms/step - loss: 0.0249 - accuracy: 0.8696 - val_loss: 0.0240 - val_accuracy: 0.8765\n",
            "Epoch 250/500\n",
            "469/469 [==============================] - 2s 3ms/step - loss: 0.0248 - accuracy: 0.8697 - val_loss: 0.0240 - val_accuracy: 0.8769\n",
            "Epoch 251/500\n",
            "469/469 [==============================] - 2s 3ms/step - loss: 0.0247 - accuracy: 0.8700 - val_loss: 0.0239 - val_accuracy: 0.8772\n",
            "Epoch 252/500\n",
            "469/469 [==============================] - 2s 3ms/step - loss: 0.0247 - accuracy: 0.8703 - val_loss: 0.0238 - val_accuracy: 0.8774\n",
            "Epoch 253/500\n",
            "469/469 [==============================] - 2s 4ms/step - loss: 0.0246 - accuracy: 0.8703 - val_loss: 0.0238 - val_accuracy: 0.8773\n",
            "Epoch 254/500\n",
            "469/469 [==============================] - 2s 3ms/step - loss: 0.0245 - accuracy: 0.8707 - val_loss: 0.0237 - val_accuracy: 0.8775\n",
            "Epoch 255/500\n",
            "469/469 [==============================] - 2s 3ms/step - loss: 0.0245 - accuracy: 0.8708 - val_loss: 0.0236 - val_accuracy: 0.8777\n",
            "Epoch 256/500\n",
            "469/469 [==============================] - 1s 3ms/step - loss: 0.0244 - accuracy: 0.8708 - val_loss: 0.0236 - val_accuracy: 0.8780\n",
            "Epoch 257/500\n",
            "469/469 [==============================] - 2s 3ms/step - loss: 0.0243 - accuracy: 0.8712 - val_loss: 0.0235 - val_accuracy: 0.8781\n",
            "Epoch 258/500\n",
            "469/469 [==============================] - 2s 3ms/step - loss: 0.0243 - accuracy: 0.8714 - val_loss: 0.0234 - val_accuracy: 0.8785\n",
            "Epoch 259/500\n",
            "469/469 [==============================] - 2s 3ms/step - loss: 0.0242 - accuracy: 0.8716 - val_loss: 0.0234 - val_accuracy: 0.8790\n",
            "Epoch 260/500\n",
            "469/469 [==============================] - 2s 3ms/step - loss: 0.0242 - accuracy: 0.8717 - val_loss: 0.0233 - val_accuracy: 0.8792\n",
            "Epoch 261/500\n",
            "469/469 [==============================] - 2s 3ms/step - loss: 0.0241 - accuracy: 0.8718 - val_loss: 0.0232 - val_accuracy: 0.8795\n",
            "Epoch 262/500\n",
            "469/469 [==============================] - 2s 3ms/step - loss: 0.0240 - accuracy: 0.8721 - val_loss: 0.0232 - val_accuracy: 0.8794\n",
            "Epoch 263/500\n",
            "469/469 [==============================] - 2s 3ms/step - loss: 0.0240 - accuracy: 0.8723 - val_loss: 0.0231 - val_accuracy: 0.8799\n",
            "Epoch 264/500\n",
            "469/469 [==============================] - 2s 4ms/step - loss: 0.0239 - accuracy: 0.8723 - val_loss: 0.0231 - val_accuracy: 0.8803\n",
            "Epoch 265/500\n",
            "469/469 [==============================] - 2s 4ms/step - loss: 0.0238 - accuracy: 0.8724 - val_loss: 0.0230 - val_accuracy: 0.8803\n",
            "Epoch 266/500\n",
            "469/469 [==============================] - 2s 3ms/step - loss: 0.0238 - accuracy: 0.8729 - val_loss: 0.0229 - val_accuracy: 0.8803\n",
            "Epoch 267/500\n",
            "469/469 [==============================] - 2s 3ms/step - loss: 0.0237 - accuracy: 0.8730 - val_loss: 0.0229 - val_accuracy: 0.8803\n",
            "Epoch 268/500\n",
            "469/469 [==============================] - 2s 3ms/step - loss: 0.0237 - accuracy: 0.8732 - val_loss: 0.0228 - val_accuracy: 0.8805\n",
            "Epoch 269/500\n",
            "469/469 [==============================] - 2s 3ms/step - loss: 0.0236 - accuracy: 0.8734 - val_loss: 0.0228 - val_accuracy: 0.8807\n",
            "Epoch 270/500\n",
            "469/469 [==============================] - 2s 3ms/step - loss: 0.0236 - accuracy: 0.8737 - val_loss: 0.0227 - val_accuracy: 0.8809\n",
            "Epoch 271/500\n",
            "469/469 [==============================] - 2s 3ms/step - loss: 0.0235 - accuracy: 0.8739 - val_loss: 0.0226 - val_accuracy: 0.8812\n",
            "Epoch 272/500\n",
            "469/469 [==============================] - 2s 3ms/step - loss: 0.0234 - accuracy: 0.8741 - val_loss: 0.0226 - val_accuracy: 0.8814\n",
            "Epoch 273/500\n",
            "469/469 [==============================] - 2s 3ms/step - loss: 0.0234 - accuracy: 0.8742 - val_loss: 0.0225 - val_accuracy: 0.8819\n",
            "Epoch 274/500\n",
            "469/469 [==============================] - 2s 3ms/step - loss: 0.0233 - accuracy: 0.8744 - val_loss: 0.0225 - val_accuracy: 0.8821\n",
            "Epoch 275/500\n",
            "469/469 [==============================] - 2s 3ms/step - loss: 0.0233 - accuracy: 0.8745 - val_loss: 0.0224 - val_accuracy: 0.8823\n",
            "Epoch 276/500\n",
            "469/469 [==============================] - 2s 3ms/step - loss: 0.0232 - accuracy: 0.8747 - val_loss: 0.0224 - val_accuracy: 0.8824\n",
            "Epoch 277/500\n",
            "469/469 [==============================] - 2s 3ms/step - loss: 0.0232 - accuracy: 0.8748 - val_loss: 0.0223 - val_accuracy: 0.8826\n",
            "Epoch 278/500\n",
            "469/469 [==============================] - 2s 3ms/step - loss: 0.0231 - accuracy: 0.8752 - val_loss: 0.0223 - val_accuracy: 0.8827\n",
            "Epoch 279/500\n",
            "469/469 [==============================] - 2s 3ms/step - loss: 0.0231 - accuracy: 0.8754 - val_loss: 0.0222 - val_accuracy: 0.8829\n",
            "Epoch 280/500\n",
            "469/469 [==============================] - 2s 3ms/step - loss: 0.0230 - accuracy: 0.8755 - val_loss: 0.0222 - val_accuracy: 0.8829\n",
            "Epoch 281/500\n",
            "469/469 [==============================] - 2s 3ms/step - loss: 0.0230 - accuracy: 0.8756 - val_loss: 0.0221 - val_accuracy: 0.8830\n",
            "Epoch 282/500\n",
            "469/469 [==============================] - 2s 4ms/step - loss: 0.0229 - accuracy: 0.8758 - val_loss: 0.0221 - val_accuracy: 0.8832\n",
            "Epoch 283/500\n",
            "469/469 [==============================] - 2s 3ms/step - loss: 0.0229 - accuracy: 0.8758 - val_loss: 0.0220 - val_accuracy: 0.8833\n",
            "Epoch 284/500\n",
            "469/469 [==============================] - 2s 3ms/step - loss: 0.0228 - accuracy: 0.8761 - val_loss: 0.0220 - val_accuracy: 0.8836\n",
            "Epoch 285/500\n",
            "469/469 [==============================] - 2s 3ms/step - loss: 0.0228 - accuracy: 0.8764 - val_loss: 0.0219 - val_accuracy: 0.8836\n",
            "Epoch 286/500\n",
            "469/469 [==============================] - 2s 3ms/step - loss: 0.0227 - accuracy: 0.8765 - val_loss: 0.0219 - val_accuracy: 0.8836\n",
            "Epoch 287/500\n",
            "469/469 [==============================] - 2s 3ms/step - loss: 0.0227 - accuracy: 0.8768 - val_loss: 0.0218 - val_accuracy: 0.8836\n",
            "Epoch 288/500\n",
            "469/469 [==============================] - 2s 3ms/step - loss: 0.0226 - accuracy: 0.8768 - val_loss: 0.0218 - val_accuracy: 0.8837\n",
            "Epoch 289/500\n",
            "469/469 [==============================] - 2s 3ms/step - loss: 0.0226 - accuracy: 0.8768 - val_loss: 0.0217 - val_accuracy: 0.8840\n",
            "Epoch 290/500\n",
            "469/469 [==============================] - 2s 3ms/step - loss: 0.0225 - accuracy: 0.8770 - val_loss: 0.0217 - val_accuracy: 0.8841\n",
            "Epoch 291/500\n",
            "469/469 [==============================] - 2s 3ms/step - loss: 0.0225 - accuracy: 0.8771 - val_loss: 0.0216 - val_accuracy: 0.8842\n",
            "Epoch 292/500\n",
            "469/469 [==============================] - 2s 3ms/step - loss: 0.0224 - accuracy: 0.8773 - val_loss: 0.0216 - val_accuracy: 0.8842\n",
            "Epoch 293/500\n",
            "469/469 [==============================] - 2s 3ms/step - loss: 0.0224 - accuracy: 0.8774 - val_loss: 0.0215 - val_accuracy: 0.8845\n",
            "Epoch 294/500\n",
            "469/469 [==============================] - 2s 3ms/step - loss: 0.0223 - accuracy: 0.8777 - val_loss: 0.0215 - val_accuracy: 0.8845\n",
            "Epoch 295/500\n",
            "469/469 [==============================] - 2s 3ms/step - loss: 0.0223 - accuracy: 0.8778 - val_loss: 0.0214 - val_accuracy: 0.8848\n",
            "Epoch 296/500\n",
            "469/469 [==============================] - 2s 3ms/step - loss: 0.0222 - accuracy: 0.8780 - val_loss: 0.0214 - val_accuracy: 0.8848\n",
            "Epoch 297/500\n",
            "469/469 [==============================] - 2s 3ms/step - loss: 0.0222 - accuracy: 0.8782 - val_loss: 0.0213 - val_accuracy: 0.8853\n",
            "Epoch 298/500\n",
            "469/469 [==============================] - 2s 3ms/step - loss: 0.0221 - accuracy: 0.8783 - val_loss: 0.0213 - val_accuracy: 0.8855\n",
            "Epoch 299/500\n",
            "469/469 [==============================] - 2s 3ms/step - loss: 0.0221 - accuracy: 0.8785 - val_loss: 0.0213 - val_accuracy: 0.8856\n",
            "Epoch 300/500\n",
            "469/469 [==============================] - 2s 3ms/step - loss: 0.0221 - accuracy: 0.8787 - val_loss: 0.0212 - val_accuracy: 0.8859\n",
            "Epoch 301/500\n",
            "469/469 [==============================] - 2s 3ms/step - loss: 0.0220 - accuracy: 0.8789 - val_loss: 0.0212 - val_accuracy: 0.8859\n",
            "Epoch 302/500\n",
            "469/469 [==============================] - 2s 3ms/step - loss: 0.0220 - accuracy: 0.8790 - val_loss: 0.0211 - val_accuracy: 0.8859\n",
            "Epoch 303/500\n",
            "469/469 [==============================] - 2s 3ms/step - loss: 0.0219 - accuracy: 0.8791 - val_loss: 0.0211 - val_accuracy: 0.8859\n",
            "Epoch 304/500\n",
            "469/469 [==============================] - 2s 3ms/step - loss: 0.0219 - accuracy: 0.8794 - val_loss: 0.0210 - val_accuracy: 0.8859\n",
            "Epoch 305/500\n",
            "469/469 [==============================] - 2s 3ms/step - loss: 0.0218 - accuracy: 0.8795 - val_loss: 0.0210 - val_accuracy: 0.8860\n",
            "Epoch 306/500\n",
            "469/469 [==============================] - 2s 3ms/step - loss: 0.0218 - accuracy: 0.8795 - val_loss: 0.0210 - val_accuracy: 0.8861\n",
            "Epoch 307/500\n",
            "469/469 [==============================] - 2s 3ms/step - loss: 0.0218 - accuracy: 0.8797 - val_loss: 0.0209 - val_accuracy: 0.8862\n",
            "Epoch 308/500\n",
            "469/469 [==============================] - 2s 3ms/step - loss: 0.0217 - accuracy: 0.8799 - val_loss: 0.0209 - val_accuracy: 0.8862\n",
            "Epoch 309/500\n",
            "469/469 [==============================] - 2s 3ms/step - loss: 0.0217 - accuracy: 0.8800 - val_loss: 0.0208 - val_accuracy: 0.8865\n",
            "Epoch 310/500\n",
            "469/469 [==============================] - 2s 3ms/step - loss: 0.0216 - accuracy: 0.8801 - val_loss: 0.0208 - val_accuracy: 0.8865\n",
            "Epoch 311/500\n",
            "469/469 [==============================] - 2s 3ms/step - loss: 0.0216 - accuracy: 0.8804 - val_loss: 0.0208 - val_accuracy: 0.8866\n",
            "Epoch 312/500\n",
            "469/469 [==============================] - 2s 3ms/step - loss: 0.0216 - accuracy: 0.8804 - val_loss: 0.0207 - val_accuracy: 0.8868\n",
            "Epoch 313/500\n",
            "469/469 [==============================] - 2s 3ms/step - loss: 0.0215 - accuracy: 0.8805 - val_loss: 0.0207 - val_accuracy: 0.8871\n",
            "Epoch 314/500\n",
            "469/469 [==============================] - 2s 3ms/step - loss: 0.0215 - accuracy: 0.8806 - val_loss: 0.0206 - val_accuracy: 0.8872\n",
            "Epoch 315/500\n",
            "469/469 [==============================] - 2s 3ms/step - loss: 0.0214 - accuracy: 0.8807 - val_loss: 0.0206 - val_accuracy: 0.8873\n",
            "Epoch 316/500\n",
            "469/469 [==============================] - 2s 3ms/step - loss: 0.0214 - accuracy: 0.8808 - val_loss: 0.0206 - val_accuracy: 0.8875\n",
            "Epoch 317/500\n",
            "469/469 [==============================] - 2s 3ms/step - loss: 0.0214 - accuracy: 0.8810 - val_loss: 0.0205 - val_accuracy: 0.8875\n",
            "Epoch 318/500\n",
            "469/469 [==============================] - 2s 3ms/step - loss: 0.0213 - accuracy: 0.8811 - val_loss: 0.0205 - val_accuracy: 0.8877\n",
            "Epoch 319/500\n",
            "469/469 [==============================] - 2s 3ms/step - loss: 0.0213 - accuracy: 0.8814 - val_loss: 0.0204 - val_accuracy: 0.8879\n",
            "Epoch 320/500\n",
            "469/469 [==============================] - 2s 3ms/step - loss: 0.0212 - accuracy: 0.8814 - val_loss: 0.0204 - val_accuracy: 0.8879\n",
            "Epoch 321/500\n",
            "469/469 [==============================] - 2s 3ms/step - loss: 0.0212 - accuracy: 0.8816 - val_loss: 0.0204 - val_accuracy: 0.8881\n",
            "Epoch 322/500\n",
            "469/469 [==============================] - 2s 3ms/step - loss: 0.0212 - accuracy: 0.8818 - val_loss: 0.0203 - val_accuracy: 0.8883\n",
            "Epoch 323/500\n",
            "469/469 [==============================] - 2s 3ms/step - loss: 0.0211 - accuracy: 0.8818 - val_loss: 0.0203 - val_accuracy: 0.8885\n",
            "Epoch 324/500\n",
            "469/469 [==============================] - 2s 3ms/step - loss: 0.0211 - accuracy: 0.8819 - val_loss: 0.0203 - val_accuracy: 0.8888\n",
            "Epoch 325/500\n",
            "469/469 [==============================] - 2s 3ms/step - loss: 0.0211 - accuracy: 0.8821 - val_loss: 0.0202 - val_accuracy: 0.8889\n",
            "Epoch 326/500\n",
            "469/469 [==============================] - 2s 3ms/step - loss: 0.0210 - accuracy: 0.8823 - val_loss: 0.0202 - val_accuracy: 0.8892\n",
            "Epoch 327/500\n",
            "469/469 [==============================] - 2s 3ms/step - loss: 0.0210 - accuracy: 0.8824 - val_loss: 0.0202 - val_accuracy: 0.8894\n",
            "Epoch 328/500\n",
            "469/469 [==============================] - 2s 3ms/step - loss: 0.0209 - accuracy: 0.8826 - val_loss: 0.0201 - val_accuracy: 0.8895\n",
            "Epoch 329/500\n",
            "469/469 [==============================] - 2s 3ms/step - loss: 0.0209 - accuracy: 0.8827 - val_loss: 0.0201 - val_accuracy: 0.8897\n",
            "Epoch 330/500\n",
            "469/469 [==============================] - 2s 3ms/step - loss: 0.0209 - accuracy: 0.8827 - val_loss: 0.0201 - val_accuracy: 0.8899\n",
            "Epoch 331/500\n",
            "469/469 [==============================] - 2s 3ms/step - loss: 0.0208 - accuracy: 0.8828 - val_loss: 0.0200 - val_accuracy: 0.8902\n",
            "Epoch 332/500\n",
            "469/469 [==============================] - 2s 3ms/step - loss: 0.0208 - accuracy: 0.8831 - val_loss: 0.0200 - val_accuracy: 0.8905\n",
            "Epoch 333/500\n",
            "469/469 [==============================] - 2s 3ms/step - loss: 0.0208 - accuracy: 0.8833 - val_loss: 0.0199 - val_accuracy: 0.8905\n",
            "Epoch 334/500\n",
            "469/469 [==============================] - 2s 3ms/step - loss: 0.0207 - accuracy: 0.8835 - val_loss: 0.0199 - val_accuracy: 0.8906\n",
            "Epoch 335/500\n",
            "469/469 [==============================] - 2s 3ms/step - loss: 0.0207 - accuracy: 0.8837 - val_loss: 0.0199 - val_accuracy: 0.8907\n",
            "Epoch 336/500\n",
            "469/469 [==============================] - 2s 4ms/step - loss: 0.0207 - accuracy: 0.8837 - val_loss: 0.0198 - val_accuracy: 0.8908\n",
            "Epoch 337/500\n",
            "469/469 [==============================] - 2s 3ms/step - loss: 0.0206 - accuracy: 0.8838 - val_loss: 0.0198 - val_accuracy: 0.8909\n",
            "Epoch 338/500\n",
            "469/469 [==============================] - 2s 3ms/step - loss: 0.0206 - accuracy: 0.8841 - val_loss: 0.0198 - val_accuracy: 0.8909\n",
            "Epoch 339/500\n",
            "469/469 [==============================] - 2s 3ms/step - loss: 0.0206 - accuracy: 0.8842 - val_loss: 0.0198 - val_accuracy: 0.8909\n",
            "Epoch 340/500\n",
            "469/469 [==============================] - 2s 3ms/step - loss: 0.0205 - accuracy: 0.8842 - val_loss: 0.0197 - val_accuracy: 0.8909\n",
            "Epoch 341/500\n",
            "469/469 [==============================] - 2s 3ms/step - loss: 0.0205 - accuracy: 0.8843 - val_loss: 0.0197 - val_accuracy: 0.8912\n",
            "Epoch 342/500\n",
            "469/469 [==============================] - 2s 3ms/step - loss: 0.0205 - accuracy: 0.8844 - val_loss: 0.0197 - val_accuracy: 0.8912\n",
            "Epoch 343/500\n",
            "469/469 [==============================] - 2s 4ms/step - loss: 0.0204 - accuracy: 0.8845 - val_loss: 0.0196 - val_accuracy: 0.8913\n",
            "Epoch 344/500\n",
            "469/469 [==============================] - 2s 3ms/step - loss: 0.0204 - accuracy: 0.8846 - val_loss: 0.0196 - val_accuracy: 0.8914\n",
            "Epoch 345/500\n",
            "469/469 [==============================] - 2s 3ms/step - loss: 0.0204 - accuracy: 0.8847 - val_loss: 0.0196 - val_accuracy: 0.8912\n",
            "Epoch 346/500\n",
            "469/469 [==============================] - 2s 3ms/step - loss: 0.0204 - accuracy: 0.8849 - val_loss: 0.0195 - val_accuracy: 0.8915\n",
            "Epoch 347/500\n",
            "469/469 [==============================] - 2s 4ms/step - loss: 0.0203 - accuracy: 0.8851 - val_loss: 0.0195 - val_accuracy: 0.8915\n",
            "Epoch 348/500\n",
            "469/469 [==============================] - 2s 3ms/step - loss: 0.0203 - accuracy: 0.8852 - val_loss: 0.0195 - val_accuracy: 0.8915\n",
            "Epoch 349/500\n",
            "469/469 [==============================] - 2s 3ms/step - loss: 0.0203 - accuracy: 0.8852 - val_loss: 0.0194 - val_accuracy: 0.8916\n",
            "Epoch 350/500\n",
            "469/469 [==============================] - 2s 3ms/step - loss: 0.0202 - accuracy: 0.8852 - val_loss: 0.0194 - val_accuracy: 0.8917\n",
            "Epoch 351/500\n",
            "469/469 [==============================] - 2s 3ms/step - loss: 0.0202 - accuracy: 0.8855 - val_loss: 0.0194 - val_accuracy: 0.8917\n",
            "Epoch 352/500\n",
            "469/469 [==============================] - 2s 3ms/step - loss: 0.0202 - accuracy: 0.8856 - val_loss: 0.0194 - val_accuracy: 0.8918\n",
            "Epoch 353/500\n",
            "469/469 [==============================] - 2s 3ms/step - loss: 0.0201 - accuracy: 0.8857 - val_loss: 0.0193 - val_accuracy: 0.8920\n",
            "Epoch 354/500\n",
            "469/469 [==============================] - 2s 3ms/step - loss: 0.0201 - accuracy: 0.8859 - val_loss: 0.0193 - val_accuracy: 0.8922\n",
            "Epoch 355/500\n",
            "469/469 [==============================] - 2s 3ms/step - loss: 0.0201 - accuracy: 0.8860 - val_loss: 0.0193 - val_accuracy: 0.8925\n",
            "Epoch 356/500\n",
            "469/469 [==============================] - 2s 3ms/step - loss: 0.0200 - accuracy: 0.8861 - val_loss: 0.0192 - val_accuracy: 0.8925\n",
            "Epoch 357/500\n",
            "469/469 [==============================] - 2s 3ms/step - loss: 0.0200 - accuracy: 0.8861 - val_loss: 0.0192 - val_accuracy: 0.8922\n",
            "Epoch 358/500\n",
            "469/469 [==============================] - 2s 3ms/step - loss: 0.0200 - accuracy: 0.8862 - val_loss: 0.0192 - val_accuracy: 0.8922\n",
            "Epoch 359/500\n",
            "469/469 [==============================] - 2s 3ms/step - loss: 0.0200 - accuracy: 0.8864 - val_loss: 0.0191 - val_accuracy: 0.8922\n",
            "Epoch 360/500\n",
            "469/469 [==============================] - 2s 3ms/step - loss: 0.0199 - accuracy: 0.8864 - val_loss: 0.0191 - val_accuracy: 0.8928\n",
            "Epoch 361/500\n",
            "469/469 [==============================] - 2s 3ms/step - loss: 0.0199 - accuracy: 0.8867 - val_loss: 0.0191 - val_accuracy: 0.8929\n",
            "Epoch 362/500\n",
            "469/469 [==============================] - 2s 3ms/step - loss: 0.0199 - accuracy: 0.8866 - val_loss: 0.0191 - val_accuracy: 0.8930\n",
            "Epoch 363/500\n",
            "469/469 [==============================] - 2s 3ms/step - loss: 0.0198 - accuracy: 0.8869 - val_loss: 0.0190 - val_accuracy: 0.8930\n",
            "Epoch 364/500\n",
            "469/469 [==============================] - 2s 3ms/step - loss: 0.0198 - accuracy: 0.8870 - val_loss: 0.0190 - val_accuracy: 0.8930\n",
            "Epoch 365/500\n",
            "469/469 [==============================] - 2s 3ms/step - loss: 0.0198 - accuracy: 0.8870 - val_loss: 0.0190 - val_accuracy: 0.8932\n",
            "Epoch 366/500\n",
            "469/469 [==============================] - 2s 3ms/step - loss: 0.0198 - accuracy: 0.8871 - val_loss: 0.0190 - val_accuracy: 0.8930\n",
            "Epoch 367/500\n",
            "469/469 [==============================] - 2s 4ms/step - loss: 0.0197 - accuracy: 0.8872 - val_loss: 0.0189 - val_accuracy: 0.8931\n",
            "Epoch 368/500\n",
            "469/469 [==============================] - 2s 3ms/step - loss: 0.0197 - accuracy: 0.8873 - val_loss: 0.0189 - val_accuracy: 0.8933\n",
            "Epoch 369/500\n",
            "469/469 [==============================] - 2s 3ms/step - loss: 0.0197 - accuracy: 0.8875 - val_loss: 0.0189 - val_accuracy: 0.8934\n",
            "Epoch 370/500\n",
            "469/469 [==============================] - 2s 3ms/step - loss: 0.0197 - accuracy: 0.8876 - val_loss: 0.0188 - val_accuracy: 0.8935\n",
            "Epoch 371/500\n",
            "469/469 [==============================] - 2s 3ms/step - loss: 0.0196 - accuracy: 0.8876 - val_loss: 0.0188 - val_accuracy: 0.8935\n",
            "Epoch 372/500\n",
            "469/469 [==============================] - 2s 3ms/step - loss: 0.0196 - accuracy: 0.8876 - val_loss: 0.0188 - val_accuracy: 0.8936\n",
            "Epoch 373/500\n",
            "469/469 [==============================] - 2s 3ms/step - loss: 0.0196 - accuracy: 0.8877 - val_loss: 0.0188 - val_accuracy: 0.8936\n",
            "Epoch 374/500\n",
            "469/469 [==============================] - 2s 3ms/step - loss: 0.0196 - accuracy: 0.8879 - val_loss: 0.0187 - val_accuracy: 0.8938\n",
            "Epoch 375/500\n",
            "469/469 [==============================] - 2s 3ms/step - loss: 0.0195 - accuracy: 0.8879 - val_loss: 0.0187 - val_accuracy: 0.8939\n",
            "Epoch 376/500\n",
            "469/469 [==============================] - 2s 3ms/step - loss: 0.0195 - accuracy: 0.8880 - val_loss: 0.0187 - val_accuracy: 0.8941\n",
            "Epoch 377/500\n",
            "469/469 [==============================] - 2s 3ms/step - loss: 0.0195 - accuracy: 0.8880 - val_loss: 0.0187 - val_accuracy: 0.8942\n",
            "Epoch 378/500\n",
            "469/469 [==============================] - 2s 3ms/step - loss: 0.0194 - accuracy: 0.8881 - val_loss: 0.0186 - val_accuracy: 0.8941\n",
            "Epoch 379/500\n",
            "469/469 [==============================] - 2s 3ms/step - loss: 0.0194 - accuracy: 0.8882 - val_loss: 0.0186 - val_accuracy: 0.8942\n",
            "Epoch 380/500\n",
            "469/469 [==============================] - 2s 3ms/step - loss: 0.0194 - accuracy: 0.8883 - val_loss: 0.0186 - val_accuracy: 0.8943\n",
            "Epoch 381/500\n",
            "469/469 [==============================] - 2s 3ms/step - loss: 0.0194 - accuracy: 0.8885 - val_loss: 0.0186 - val_accuracy: 0.8943\n",
            "Epoch 382/500\n",
            "469/469 [==============================] - 2s 3ms/step - loss: 0.0193 - accuracy: 0.8885 - val_loss: 0.0185 - val_accuracy: 0.8944\n",
            "Epoch 383/500\n",
            "469/469 [==============================] - 2s 3ms/step - loss: 0.0193 - accuracy: 0.8886 - val_loss: 0.0185 - val_accuracy: 0.8946\n",
            "Epoch 384/500\n",
            "469/469 [==============================] - 2s 3ms/step - loss: 0.0193 - accuracy: 0.8887 - val_loss: 0.0185 - val_accuracy: 0.8947\n",
            "Epoch 385/500\n",
            "469/469 [==============================] - 2s 3ms/step - loss: 0.0193 - accuracy: 0.8889 - val_loss: 0.0185 - val_accuracy: 0.8945\n",
            "Epoch 386/500\n",
            "469/469 [==============================] - 2s 4ms/step - loss: 0.0193 - accuracy: 0.8890 - val_loss: 0.0184 - val_accuracy: 0.8947\n",
            "Epoch 387/500\n",
            "469/469 [==============================] - 2s 4ms/step - loss: 0.0192 - accuracy: 0.8891 - val_loss: 0.0184 - val_accuracy: 0.8948\n",
            "Epoch 388/500\n",
            "469/469 [==============================] - 2s 3ms/step - loss: 0.0192 - accuracy: 0.8892 - val_loss: 0.0184 - val_accuracy: 0.8950\n",
            "Epoch 389/500\n",
            "469/469 [==============================] - 2s 3ms/step - loss: 0.0192 - accuracy: 0.8892 - val_loss: 0.0184 - val_accuracy: 0.8950\n",
            "Epoch 390/500\n",
            "469/469 [==============================] - 2s 3ms/step - loss: 0.0192 - accuracy: 0.8895 - val_loss: 0.0184 - val_accuracy: 0.8950\n",
            "Epoch 391/500\n",
            "469/469 [==============================] - 2s 3ms/step - loss: 0.0191 - accuracy: 0.8895 - val_loss: 0.0183 - val_accuracy: 0.8952\n",
            "Epoch 392/500\n",
            "469/469 [==============================] - 2s 3ms/step - loss: 0.0191 - accuracy: 0.8896 - val_loss: 0.0183 - val_accuracy: 0.8954\n",
            "Epoch 393/500\n",
            "469/469 [==============================] - 2s 3ms/step - loss: 0.0191 - accuracy: 0.8897 - val_loss: 0.0183 - val_accuracy: 0.8954\n",
            "Epoch 394/500\n",
            "469/469 [==============================] - 2s 3ms/step - loss: 0.0191 - accuracy: 0.8897 - val_loss: 0.0183 - val_accuracy: 0.8956\n",
            "Epoch 395/500\n",
            "469/469 [==============================] - 2s 3ms/step - loss: 0.0190 - accuracy: 0.8899 - val_loss: 0.0182 - val_accuracy: 0.8956\n",
            "Epoch 396/500\n",
            "469/469 [==============================] - 2s 3ms/step - loss: 0.0190 - accuracy: 0.8899 - val_loss: 0.0182 - val_accuracy: 0.8958\n",
            "Epoch 397/500\n",
            "469/469 [==============================] - 2s 3ms/step - loss: 0.0190 - accuracy: 0.8901 - val_loss: 0.0182 - val_accuracy: 0.8959\n",
            "Epoch 398/500\n",
            "469/469 [==============================] - 2s 3ms/step - loss: 0.0190 - accuracy: 0.8900 - val_loss: 0.0182 - val_accuracy: 0.8961\n",
            "Epoch 399/500\n",
            "469/469 [==============================] - 2s 3ms/step - loss: 0.0189 - accuracy: 0.8901 - val_loss: 0.0182 - val_accuracy: 0.8962\n",
            "Epoch 400/500\n",
            "469/469 [==============================] - 2s 3ms/step - loss: 0.0189 - accuracy: 0.8903 - val_loss: 0.0181 - val_accuracy: 0.8962\n",
            "Epoch 401/500\n",
            "469/469 [==============================] - 2s 3ms/step - loss: 0.0189 - accuracy: 0.8903 - val_loss: 0.0181 - val_accuracy: 0.8962\n",
            "Epoch 402/500\n",
            "469/469 [==============================] - 2s 3ms/step - loss: 0.0189 - accuracy: 0.8903 - val_loss: 0.0181 - val_accuracy: 0.8963\n",
            "Epoch 403/500\n",
            "469/469 [==============================] - 2s 3ms/step - loss: 0.0189 - accuracy: 0.8905 - val_loss: 0.0181 - val_accuracy: 0.8964\n",
            "Epoch 404/500\n",
            "469/469 [==============================] - 2s 3ms/step - loss: 0.0188 - accuracy: 0.8905 - val_loss: 0.0180 - val_accuracy: 0.8965\n",
            "Epoch 405/500\n",
            "469/469 [==============================] - 2s 3ms/step - loss: 0.0188 - accuracy: 0.8906 - val_loss: 0.0180 - val_accuracy: 0.8965\n",
            "Epoch 406/500\n",
            "469/469 [==============================] - 2s 3ms/step - loss: 0.0188 - accuracy: 0.8906 - val_loss: 0.0180 - val_accuracy: 0.8965\n",
            "Epoch 407/500\n",
            "469/469 [==============================] - 2s 3ms/step - loss: 0.0188 - accuracy: 0.8907 - val_loss: 0.0180 - val_accuracy: 0.8964\n",
            "Epoch 408/500\n",
            "469/469 [==============================] - 2s 3ms/step - loss: 0.0187 - accuracy: 0.8909 - val_loss: 0.0180 - val_accuracy: 0.8964\n",
            "Epoch 409/500\n",
            "469/469 [==============================] - 2s 3ms/step - loss: 0.0187 - accuracy: 0.8909 - val_loss: 0.0179 - val_accuracy: 0.8963\n",
            "Epoch 410/500\n",
            "469/469 [==============================] - 2s 3ms/step - loss: 0.0187 - accuracy: 0.8910 - val_loss: 0.0179 - val_accuracy: 0.8963\n",
            "Epoch 411/500\n",
            "469/469 [==============================] - 2s 3ms/step - loss: 0.0187 - accuracy: 0.8911 - val_loss: 0.0179 - val_accuracy: 0.8965\n",
            "Epoch 412/500\n",
            "469/469 [==============================] - 2s 3ms/step - loss: 0.0187 - accuracy: 0.8911 - val_loss: 0.0179 - val_accuracy: 0.8965\n",
            "Epoch 413/500\n",
            "469/469 [==============================] - 2s 3ms/step - loss: 0.0186 - accuracy: 0.8913 - val_loss: 0.0179 - val_accuracy: 0.8966\n",
            "Epoch 414/500\n",
            "469/469 [==============================] - 2s 3ms/step - loss: 0.0186 - accuracy: 0.8913 - val_loss: 0.0178 - val_accuracy: 0.8966\n",
            "Epoch 415/500\n",
            "469/469 [==============================] - 2s 3ms/step - loss: 0.0186 - accuracy: 0.8915 - val_loss: 0.0178 - val_accuracy: 0.8967\n",
            "Epoch 416/500\n",
            "469/469 [==============================] - 2s 3ms/step - loss: 0.0186 - accuracy: 0.8915 - val_loss: 0.0178 - val_accuracy: 0.8968\n",
            "Epoch 417/500\n",
            "469/469 [==============================] - 2s 3ms/step - loss: 0.0186 - accuracy: 0.8916 - val_loss: 0.0178 - val_accuracy: 0.8969\n",
            "Epoch 418/500\n",
            "469/469 [==============================] - 2s 3ms/step - loss: 0.0185 - accuracy: 0.8916 - val_loss: 0.0178 - val_accuracy: 0.8969\n",
            "Epoch 419/500\n",
            "469/469 [==============================] - 2s 3ms/step - loss: 0.0185 - accuracy: 0.8917 - val_loss: 0.0177 - val_accuracy: 0.8970\n",
            "Epoch 420/500\n",
            "469/469 [==============================] - 2s 3ms/step - loss: 0.0185 - accuracy: 0.8919 - val_loss: 0.0177 - val_accuracy: 0.8971\n",
            "Epoch 421/500\n",
            "469/469 [==============================] - 2s 3ms/step - loss: 0.0185 - accuracy: 0.8918 - val_loss: 0.0177 - val_accuracy: 0.8971\n",
            "Epoch 422/500\n",
            "469/469 [==============================] - 2s 3ms/step - loss: 0.0185 - accuracy: 0.8920 - val_loss: 0.0177 - val_accuracy: 0.8972\n",
            "Epoch 423/500\n",
            "469/469 [==============================] - 2s 3ms/step - loss: 0.0184 - accuracy: 0.8920 - val_loss: 0.0177 - val_accuracy: 0.8972\n",
            "Epoch 424/500\n",
            "469/469 [==============================] - 2s 3ms/step - loss: 0.0184 - accuracy: 0.8921 - val_loss: 0.0176 - val_accuracy: 0.8972\n",
            "Epoch 425/500\n",
            "469/469 [==============================] - 2s 4ms/step - loss: 0.0184 - accuracy: 0.8921 - val_loss: 0.0176 - val_accuracy: 0.8973\n",
            "Epoch 426/500\n",
            "469/469 [==============================] - 2s 3ms/step - loss: 0.0184 - accuracy: 0.8921 - val_loss: 0.0176 - val_accuracy: 0.8974\n",
            "Epoch 427/500\n",
            "469/469 [==============================] - 2s 3ms/step - loss: 0.0184 - accuracy: 0.8923 - val_loss: 0.0176 - val_accuracy: 0.8974\n",
            "Epoch 428/500\n",
            "469/469 [==============================] - 2s 3ms/step - loss: 0.0183 - accuracy: 0.8923 - val_loss: 0.0176 - val_accuracy: 0.8974\n",
            "Epoch 429/500\n",
            "469/469 [==============================] - 2s 3ms/step - loss: 0.0183 - accuracy: 0.8924 - val_loss: 0.0175 - val_accuracy: 0.8974\n",
            "Epoch 430/500\n",
            "469/469 [==============================] - 2s 4ms/step - loss: 0.0183 - accuracy: 0.8925 - val_loss: 0.0175 - val_accuracy: 0.8974\n",
            "Epoch 431/500\n",
            "469/469 [==============================] - 2s 3ms/step - loss: 0.0183 - accuracy: 0.8926 - val_loss: 0.0175 - val_accuracy: 0.8975\n",
            "Epoch 432/500\n",
            "469/469 [==============================] - 2s 3ms/step - loss: 0.0183 - accuracy: 0.8926 - val_loss: 0.0175 - val_accuracy: 0.8976\n",
            "Epoch 433/500\n",
            "469/469 [==============================] - 2s 4ms/step - loss: 0.0182 - accuracy: 0.8927 - val_loss: 0.0175 - val_accuracy: 0.8977\n",
            "Epoch 434/500\n",
            "469/469 [==============================] - 2s 3ms/step - loss: 0.0182 - accuracy: 0.8927 - val_loss: 0.0174 - val_accuracy: 0.8978\n",
            "Epoch 435/500\n",
            "469/469 [==============================] - 2s 3ms/step - loss: 0.0182 - accuracy: 0.8929 - val_loss: 0.0174 - val_accuracy: 0.8979\n",
            "Epoch 436/500\n",
            "469/469 [==============================] - 2s 3ms/step - loss: 0.0182 - accuracy: 0.8930 - val_loss: 0.0174 - val_accuracy: 0.8979\n",
            "Epoch 437/500\n",
            "469/469 [==============================] - 2s 3ms/step - loss: 0.0182 - accuracy: 0.8931 - val_loss: 0.0174 - val_accuracy: 0.8978\n",
            "Epoch 438/500\n",
            "469/469 [==============================] - 2s 3ms/step - loss: 0.0182 - accuracy: 0.8932 - val_loss: 0.0174 - val_accuracy: 0.8978\n",
            "Epoch 439/500\n",
            "469/469 [==============================] - 2s 3ms/step - loss: 0.0181 - accuracy: 0.8933 - val_loss: 0.0174 - val_accuracy: 0.8978\n",
            "Epoch 440/500\n",
            "469/469 [==============================] - 2s 3ms/step - loss: 0.0181 - accuracy: 0.8934 - val_loss: 0.0173 - val_accuracy: 0.8977\n",
            "Epoch 441/500\n",
            "469/469 [==============================] - 2s 3ms/step - loss: 0.0181 - accuracy: 0.8934 - val_loss: 0.0173 - val_accuracy: 0.8978\n",
            "Epoch 442/500\n",
            "469/469 [==============================] - 2s 3ms/step - loss: 0.0181 - accuracy: 0.8935 - val_loss: 0.0173 - val_accuracy: 0.8980\n",
            "Epoch 443/500\n",
            "469/469 [==============================] - 2s 3ms/step - loss: 0.0181 - accuracy: 0.8937 - val_loss: 0.0173 - val_accuracy: 0.8982\n",
            "Epoch 444/500\n",
            "469/469 [==============================] - 2s 3ms/step - loss: 0.0180 - accuracy: 0.8936 - val_loss: 0.0173 - val_accuracy: 0.8982\n",
            "Epoch 445/500\n",
            "469/469 [==============================] - 2s 3ms/step - loss: 0.0180 - accuracy: 0.8937 - val_loss: 0.0173 - val_accuracy: 0.8983\n",
            "Epoch 446/500\n",
            "469/469 [==============================] - 2s 3ms/step - loss: 0.0180 - accuracy: 0.8937 - val_loss: 0.0172 - val_accuracy: 0.8985\n",
            "Epoch 447/500\n",
            "469/469 [==============================] - 2s 4ms/step - loss: 0.0180 - accuracy: 0.8939 - val_loss: 0.0172 - val_accuracy: 0.8987\n",
            "Epoch 448/500\n",
            "469/469 [==============================] - 2s 3ms/step - loss: 0.0180 - accuracy: 0.8940 - val_loss: 0.0172 - val_accuracy: 0.8989\n",
            "Epoch 449/500\n",
            "469/469 [==============================] - 2s 3ms/step - loss: 0.0180 - accuracy: 0.8940 - val_loss: 0.0172 - val_accuracy: 0.8990\n",
            "Epoch 450/500\n",
            "469/469 [==============================] - 2s 3ms/step - loss: 0.0179 - accuracy: 0.8941 - val_loss: 0.0172 - val_accuracy: 0.8990\n",
            "Epoch 451/500\n",
            "469/469 [==============================] - 2s 3ms/step - loss: 0.0179 - accuracy: 0.8941 - val_loss: 0.0172 - val_accuracy: 0.8991\n",
            "Epoch 452/500\n",
            "469/469 [==============================] - 2s 3ms/step - loss: 0.0179 - accuracy: 0.8942 - val_loss: 0.0171 - val_accuracy: 0.8992\n",
            "Epoch 453/500\n",
            "469/469 [==============================] - 2s 3ms/step - loss: 0.0179 - accuracy: 0.8943 - val_loss: 0.0171 - val_accuracy: 0.8994\n",
            "Epoch 454/500\n",
            "469/469 [==============================] - 2s 3ms/step - loss: 0.0179 - accuracy: 0.8944 - val_loss: 0.0171 - val_accuracy: 0.8993\n",
            "Epoch 455/500\n",
            "469/469 [==============================] - 2s 3ms/step - loss: 0.0179 - accuracy: 0.8944 - val_loss: 0.0171 - val_accuracy: 0.8996\n",
            "Epoch 456/500\n",
            "469/469 [==============================] - 2s 3ms/step - loss: 0.0178 - accuracy: 0.8945 - val_loss: 0.0171 - val_accuracy: 0.8998\n",
            "Epoch 457/500\n",
            "469/469 [==============================] - 2s 3ms/step - loss: 0.0178 - accuracy: 0.8945 - val_loss: 0.0171 - val_accuracy: 0.8999\n",
            "Epoch 458/500\n",
            "469/469 [==============================] - 2s 3ms/step - loss: 0.0178 - accuracy: 0.8946 - val_loss: 0.0170 - val_accuracy: 0.9000\n",
            "Epoch 459/500\n",
            "469/469 [==============================] - 2s 3ms/step - loss: 0.0178 - accuracy: 0.8947 - val_loss: 0.0170 - val_accuracy: 0.8999\n",
            "Epoch 460/500\n",
            "469/469 [==============================] - 2s 4ms/step - loss: 0.0178 - accuracy: 0.8947 - val_loss: 0.0170 - val_accuracy: 0.9000\n",
            "Epoch 461/500\n",
            "469/469 [==============================] - 2s 3ms/step - loss: 0.0178 - accuracy: 0.8948 - val_loss: 0.0170 - val_accuracy: 0.9000\n",
            "Epoch 462/500\n",
            "469/469 [==============================] - 2s 3ms/step - loss: 0.0177 - accuracy: 0.8949 - val_loss: 0.0170 - val_accuracy: 0.9000\n",
            "Epoch 463/500\n",
            "469/469 [==============================] - 2s 3ms/step - loss: 0.0177 - accuracy: 0.8949 - val_loss: 0.0170 - val_accuracy: 0.9000\n",
            "Epoch 464/500\n",
            "469/469 [==============================] - 2s 4ms/step - loss: 0.0177 - accuracy: 0.8950 - val_loss: 0.0169 - val_accuracy: 0.9002\n",
            "Epoch 465/500\n",
            "469/469 [==============================] - 2s 3ms/step - loss: 0.0177 - accuracy: 0.8950 - val_loss: 0.0169 - val_accuracy: 0.9003\n",
            "Epoch 466/500\n",
            "469/469 [==============================] - 2s 3ms/step - loss: 0.0177 - accuracy: 0.8953 - val_loss: 0.0169 - val_accuracy: 0.9003\n",
            "Epoch 467/500\n",
            "469/469 [==============================] - 2s 3ms/step - loss: 0.0177 - accuracy: 0.8952 - val_loss: 0.0169 - val_accuracy: 0.9003\n",
            "Epoch 468/500\n",
            "469/469 [==============================] - 2s 3ms/step - loss: 0.0176 - accuracy: 0.8953 - val_loss: 0.0169 - val_accuracy: 0.9005\n",
            "Epoch 469/500\n",
            "469/469 [==============================] - 2s 3ms/step - loss: 0.0176 - accuracy: 0.8954 - val_loss: 0.0169 - val_accuracy: 0.9004\n",
            "Epoch 470/500\n",
            "469/469 [==============================] - 2s 3ms/step - loss: 0.0176 - accuracy: 0.8954 - val_loss: 0.0168 - val_accuracy: 0.9005\n",
            "Epoch 471/500\n",
            "469/469 [==============================] - 2s 3ms/step - loss: 0.0176 - accuracy: 0.8955 - val_loss: 0.0168 - val_accuracy: 0.9005\n",
            "Epoch 472/500\n",
            "469/469 [==============================] - 2s 3ms/step - loss: 0.0176 - accuracy: 0.8956 - val_loss: 0.0168 - val_accuracy: 0.9005\n",
            "Epoch 473/500\n",
            "469/469 [==============================] - 2s 3ms/step - loss: 0.0176 - accuracy: 0.8956 - val_loss: 0.0168 - val_accuracy: 0.9007\n",
            "Epoch 474/500\n",
            "469/469 [==============================] - 2s 3ms/step - loss: 0.0175 - accuracy: 0.8957 - val_loss: 0.0168 - val_accuracy: 0.9007\n",
            "Epoch 475/500\n",
            "469/469 [==============================] - 2s 3ms/step - loss: 0.0175 - accuracy: 0.8958 - val_loss: 0.0168 - val_accuracy: 0.9006\n",
            "Epoch 476/500\n",
            "469/469 [==============================] - 2s 3ms/step - loss: 0.0175 - accuracy: 0.8959 - val_loss: 0.0168 - val_accuracy: 0.9008\n",
            "Epoch 477/500\n",
            "469/469 [==============================] - 2s 4ms/step - loss: 0.0175 - accuracy: 0.8959 - val_loss: 0.0167 - val_accuracy: 0.9009\n",
            "Epoch 478/500\n",
            "469/469 [==============================] - 2s 4ms/step - loss: 0.0175 - accuracy: 0.8961 - val_loss: 0.0167 - val_accuracy: 0.9011\n",
            "Epoch 479/500\n",
            "469/469 [==============================] - 2s 4ms/step - loss: 0.0175 - accuracy: 0.8961 - val_loss: 0.0167 - val_accuracy: 0.9013\n",
            "Epoch 480/500\n",
            "469/469 [==============================] - 2s 3ms/step - loss: 0.0175 - accuracy: 0.8960 - val_loss: 0.0167 - val_accuracy: 0.9013\n",
            "Epoch 481/500\n",
            "469/469 [==============================] - 2s 3ms/step - loss: 0.0174 - accuracy: 0.8961 - val_loss: 0.0167 - val_accuracy: 0.9013\n",
            "Epoch 482/500\n",
            "469/469 [==============================] - 2s 3ms/step - loss: 0.0174 - accuracy: 0.8962 - val_loss: 0.0167 - val_accuracy: 0.9014\n",
            "Epoch 483/500\n",
            "469/469 [==============================] - 2s 4ms/step - loss: 0.0174 - accuracy: 0.8964 - val_loss: 0.0167 - val_accuracy: 0.9013\n",
            "Epoch 484/500\n",
            "469/469 [==============================] - 2s 4ms/step - loss: 0.0174 - accuracy: 0.8965 - val_loss: 0.0166 - val_accuracy: 0.9013\n",
            "Epoch 485/500\n",
            "469/469 [==============================] - 2s 3ms/step - loss: 0.0174 - accuracy: 0.8965 - val_loss: 0.0166 - val_accuracy: 0.9014\n",
            "Epoch 486/500\n",
            "469/469 [==============================] - 2s 3ms/step - loss: 0.0174 - accuracy: 0.8966 - val_loss: 0.0166 - val_accuracy: 0.9016\n",
            "Epoch 487/500\n",
            "469/469 [==============================] - 2s 3ms/step - loss: 0.0173 - accuracy: 0.8966 - val_loss: 0.0166 - val_accuracy: 0.9016\n",
            "Epoch 488/500\n",
            "469/469 [==============================] - 2s 3ms/step - loss: 0.0173 - accuracy: 0.8967 - val_loss: 0.0166 - val_accuracy: 0.9016\n",
            "Epoch 489/500\n",
            "469/469 [==============================] - 2s 3ms/step - loss: 0.0173 - accuracy: 0.8967 - val_loss: 0.0166 - val_accuracy: 0.9016\n",
            "Epoch 490/500\n",
            "469/469 [==============================] - 2s 3ms/step - loss: 0.0173 - accuracy: 0.8968 - val_loss: 0.0166 - val_accuracy: 0.9016\n",
            "Epoch 491/500\n",
            "469/469 [==============================] - 2s 3ms/step - loss: 0.0173 - accuracy: 0.8968 - val_loss: 0.0165 - val_accuracy: 0.9018\n",
            "Epoch 492/500\n",
            "469/469 [==============================] - 2s 3ms/step - loss: 0.0173 - accuracy: 0.8969 - val_loss: 0.0165 - val_accuracy: 0.9018\n",
            "Epoch 493/500\n",
            "469/469 [==============================] - 2s 3ms/step - loss: 0.0173 - accuracy: 0.8969 - val_loss: 0.0165 - val_accuracy: 0.9018\n",
            "Epoch 494/500\n",
            "469/469 [==============================] - 2s 3ms/step - loss: 0.0172 - accuracy: 0.8969 - val_loss: 0.0165 - val_accuracy: 0.9018\n",
            "Epoch 495/500\n",
            "469/469 [==============================] - 2s 3ms/step - loss: 0.0172 - accuracy: 0.8970 - val_loss: 0.0165 - val_accuracy: 0.9017\n",
            "Epoch 496/500\n",
            "469/469 [==============================] - 2s 3ms/step - loss: 0.0172 - accuracy: 0.8971 - val_loss: 0.0165 - val_accuracy: 0.9017\n",
            "Epoch 497/500\n",
            "469/469 [==============================] - 2s 3ms/step - loss: 0.0172 - accuracy: 0.8971 - val_loss: 0.0165 - val_accuracy: 0.9017\n",
            "Epoch 498/500\n",
            "469/469 [==============================] - 2s 4ms/step - loss: 0.0172 - accuracy: 0.8972 - val_loss: 0.0164 - val_accuracy: 0.9018\n",
            "Epoch 499/500\n",
            "469/469 [==============================] - 2s 3ms/step - loss: 0.0172 - accuracy: 0.8972 - val_loss: 0.0164 - val_accuracy: 0.9017\n",
            "Epoch 500/500\n",
            "469/469 [==============================] - 2s 3ms/step - loss: 0.0172 - accuracy: 0.8973 - val_loss: 0.0164 - val_accuracy: 0.9018\n"
          ]
        }
      ]
    },
    {
      "cell_type": "markdown",
      "metadata": {
        "id": "8AJ6owdTR1UA"
      },
      "source": [
        "### Plot learning curves"
      ]
    },
    {
      "cell_type": "code",
      "metadata": {
        "id": "QF8qu8ByR314",
        "colab": {
          "base_uri": "https://localhost:8080/",
          "height": 591
        },
        "outputId": "57b222b1-f8ff-4b5e-912c-6e9c7824752e"
      },
      "source": [
        "# list all data in history\n",
        "print(history.history.keys())\n",
        "\n",
        "# summarize history for accuracy\n",
        "plt.plot(history.history['accuracy'])\n",
        "plt.plot(history.history['val_accuracy'])\n",
        "plt.title('model accuracy')\n",
        "plt.ylabel('accuracy')\n",
        "plt.xlabel('epoch')\n",
        "plt.legend(['train', 'test'], loc='upper left')\n",
        "plt.show()\n",
        "\n",
        "# summarize history for loss\n",
        "plt.plot(history.history['loss'])\n",
        "plt.plot(history.history['val_loss'])\n",
        "plt.title('model loss')\n",
        "plt.ylabel('loss')\n",
        "plt.xlabel('epoch')\n",
        "plt.legend(['train', 'test'], loc='upper left')\n",
        "plt.show()"
      ],
      "execution_count": null,
      "outputs": [
        {
          "output_type": "stream",
          "name": "stdout",
          "text": [
            "dict_keys(['loss', 'accuracy', 'val_loss', 'val_accuracy'])\n"
          ]
        },
        {
          "output_type": "display_data",
          "data": {
            "text/plain": [
              "<Figure size 432x288 with 1 Axes>"
            ],
            "image/png": "[encoded data removed]"
          },
          "metadata": {
            "needs_background": "light"
          }
        },
        {
          "output_type": "display_data",
          "data": {
            "text/plain": [
              "<Figure size 432x288 with 1 Axes>"
            ],
            "image/png": "[encoded data removed]"
          },
          "metadata": {
            "needs_background": "light"
          }
        }
      ]
    },
    {
      "cell_type": "markdown",
      "metadata": {
        "id": "763bQLbzQmw4"
      },
      "source": [
        "### Evaluate the model"
      ]
    },
    {
      "cell_type": "code",
      "metadata": {
        "id": "2siGhXrm-6rb",
        "colab": {
          "base_uri": "https://localhost:8080/"
        },
        "outputId": "502b6e63-e788-4770-cbf2-108ff1adde4f"
      },
      "source": [
        "model.evaluate(X_validation, y_validation)"
      ],
      "execution_count": null,
      "outputs": [
        {
          "output_type": "stream",
          "name": "stdout",
          "text": [
            "313/313 [==============================] - 1s 2ms/step - loss: 0.0164 - accuracy: 0.9018\n"
          ]
        },
        {
          "output_type": "execute_result",
          "data": {
            "text/plain": [
              "[0.016414102166891098, 0.9017999768257141]"
            ]
          },
          "metadata": {},
          "execution_count": 22
        }
      ]
    },
    {
      "cell_type": "markdown",
      "metadata": {
        "id": "ARXGXxbZ3vlD"
      },
      "source": [
        "### TODO 3\n",
        "\n",
        "Write code to display the confusion matrix for your classifier and comment on the insights such confusion matrix provides.\n",
        "\n",
        "See [this](https://scikit-learn.org/stable/auto_examples/classification/plot_digits_classification.html) for an example."
      ]
    },
    {
      "cell_type": "code",
      "source": [
        "import matplotlib.pyplot as plt\n",
        "\n",
        "# Import datasets, classifiers and performance metrics\n",
        "from sklearn import datasets, svm, metrics\n",
        "from sklearn.model_selection import train_test_split"
      ],
      "metadata": {
        "id": "IBN9js6flCdV"
      },
      "execution_count": null,
      "outputs": []
    },
    {
      "cell_type": "code",
      "source": [
        "digits = datasets.load_digits()\n",
        "\n",
        "_, axes = plt.subplots(nrows=1, ncols=4, figsize=(10, 3))\n",
        "for ax, image, label in zip(axes, digits.images, digits.target):\n",
        "    ax.set_axis_off()\n",
        "    ax.imshow(image, cmap=plt.cm.gray_r, interpolation=\"nearest\")\n",
        "    ax.set_title(\"Training: %i\" % label)"
      ],
      "metadata": {
        "colab": {
          "base_uri": "https://localhost:8080/",
          "height": 168
        },
        "id": "MncwLwLCPjlq",
        "outputId": "cd357eb9-3258-4025-e9fc-230f5f6be20f"
      },
      "execution_count": null,
      "outputs": [
        {
          "output_type": "display_data",
          "data": {
            "text/plain": [
              "<Figure size 720x216 with 4 Axes>"
            ],
            "image/png": "[encoded data removed]"
          },
          "metadata": {
            "needs_background": "light"
          }
        }
      ]
    },
    {
      "cell_type": "code",
      "source": [
        "# flatten the images\n",
        "n_samples = len(digits.images)\n",
        "data = digits.images.reshape((n_samples, -1))\n",
        "\n",
        "# Create a classifier: a support vector classifier\n",
        "clf = svm.SVC(gamma=0.001)\n",
        "\n",
        "# Split data into 50% train and 50% test subsets\n",
        "X_train, X_test, y_train, y_test = train_test_split(\n",
        "    data, digits.target, test_size=0.5, shuffle=False\n",
        ")\n",
        "\n",
        "# Learn the digits on the train subset\n",
        "clf.fit(X_train, y_train)\n",
        "\n",
        "# Predict the value of the digit on the test subset\n",
        "predicted = clf.predict(X_test)"
      ],
      "metadata": {
        "id": "__oiBvzqPneg"
      },
      "execution_count": null,
      "outputs": []
    },
    {
      "cell_type": "code",
      "source": [
        "_, axes = plt.subplots(nrows=1, ncols=4, figsize=(10, 3))\n",
        "for ax, image, prediction in zip(axes, X_test, predicted):\n",
        "    ax.set_axis_off()\n",
        "    image = image.reshape(8, 8)\n",
        "    ax.imshow(image, cmap=plt.cm.gray_r, interpolation=\"nearest\")\n",
        "    ax.set_title(f\"Prediction: {prediction}\")"
      ],
      "metadata": {
        "colab": {
          "base_uri": "https://localhost:8080/",
          "height": 168
        },
        "id": "tJk0bJXnPqCb",
        "outputId": "44bdef12-6acf-406b-e281-4fd5d85af5bf"
      },
      "execution_count": null,
      "outputs": [
        {
          "output_type": "display_data",
          "data": {
            "text/plain": [
              "<Figure size 720x216 with 4 Axes>"
            ],
            "image/png": "[encoded data removed]"
          },
          "metadata": {
            "needs_background": "light"
          }
        }
      ]
    },
    {
      "cell_type": "code",
      "source": [
        "print(\n",
        "    f\"Classification report for classifier {clf}:\\n\"\n",
        "    f\"{metrics.classification_report(y_test, predicted)}\\n\"\n",
        ")"
      ],
      "metadata": {
        "colab": {
          "base_uri": "https://localhost:8080/"
        },
        "id": "HtNG1-IgPrzW",
        "outputId": "c0d8c682-805a-49fe-eee1-c4183d2abc4a"
      },
      "execution_count": null,
      "outputs": [
        {
          "output_type": "stream",
          "name": "stdout",
          "text": [
            "Classification report for classifier SVC(gamma=0.001):\n",
            "              precision    recall  f1-score   support\n",
            "\n",
            "           0       1.00      0.99      0.99        88\n",
            "           1       0.99      0.97      0.98        91\n",
            "           2       0.99      0.99      0.99        86\n",
            "           3       0.98      0.87      0.92        91\n",
            "           4       0.99      0.96      0.97        92\n",
            "           5       0.95      0.97      0.96        91\n",
            "           6       0.99      0.99      0.99        91\n",
            "           7       0.96      0.99      0.97        89\n",
            "           8       0.94      1.00      0.97        88\n",
            "           9       0.93      0.98      0.95        92\n",
            "\n",
            "    accuracy                           0.97       899\n",
            "   macro avg       0.97      0.97      0.97       899\n",
            "weighted avg       0.97      0.97      0.97       899\n",
            "\n",
            "\n"
          ]
        }
      ]
    },
    {
      "cell_type": "code",
      "source": [
        "disp = metrics.ConfusionMatrixDisplay.from_predictions(y_test, predicted)\n",
        "disp.figure_.suptitle(\"Confusion Matrix\")\n",
        "print(f\"Confusion matrix:\\n{disp.confusion_matrix}\")\n",
        "\n",
        "plt.show()"
      ],
      "metadata": {
        "colab": {
          "base_uri": "https://localhost:8080/",
          "height": 504
        },
        "id": "3-vf4A3GPtsd",
        "outputId": "bb494e6e-8187-445f-9c47-4acdcd9dbc80"
      },
      "execution_count": null,
      "outputs": [
        {
          "output_type": "stream",
          "name": "stdout",
          "text": [
            "Confusion matrix:\n",
            "[[87  0  0  0  1  0  0  0  0  0]\n",
            " [ 0 88  1  0  0  0  0  0  1  1]\n",
            " [ 0  0 85  1  0  0  0  0  0  0]\n",
            " [ 0  0  0 79  0  3  0  4  5  0]\n",
            " [ 0  0  0  0 88  0  0  0  0  4]\n",
            " [ 0  0  0  0  0 88  1  0  0  2]\n",
            " [ 0  1  0  0  0  0 90  0  0  0]\n",
            " [ 0  0  0  0  0  1  0 88  0  0]\n",
            " [ 0  0  0  0  0  0  0  0 88  0]\n",
            " [ 0  0  0  1  0  1  0  0  0 90]]\n"
          ]
        },
        {
          "output_type": "display_data",
          "data": {
            "text/plain": [
              "<Figure size 432x288 with 2 Axes>"
            ],
            "image/png": "[encoded data removed]"
          },
          "metadata": {
            "needs_background": "light"
          }
        }
      ]
    },
    {
      "cell_type": "code",
      "source": [],
      "metadata": {
        "id": "KXkSGwE6RCfB"
      },
      "execution_count": null,
      "outputs": []
    },
    {
      "cell_type": "markdown",
      "metadata": {
        "id": "lJetC7rA36VT"
      },
      "source": [
        "### (OPTIONAL) TODO 4\n",
        "\n",
        "Write code to display 10 cases where the classifier makes mistakes. Make sure to display both the true value as well as the predicted value.\n"
      ]
    },
    {
      "cell_type": "markdown",
      "metadata": {
        "id": "C15mmBXeW3ZG"
      },
      "source": [
        "## PART 2 - Convolutional neural network (CNN) architecture"
      ]
    },
    {
      "cell_type": "code",
      "metadata": {
        "id": "eyTJv6yKapB9",
        "colab": {
          "base_uri": "https://localhost:8080/"
        },
        "outputId": "3271d0ef-1aa5-49fa-be6f-4f103cdf830f"
      },
      "source": [
        "model_cnn = keras.Sequential(\n",
        "    [\n",
        "        keras.layers.InputLayer(input_shape),\n",
        "        layers.Conv2D(32, kernel_size=(3, 3), activation=\"relu\"),\n",
        "        layers.MaxPooling2D(pool_size=(2, 2)),\n",
        "        layers.Conv2D(64, kernel_size=(3, 3), activation=\"relu\"),\n",
        "        layers.MaxPooling2D(pool_size=(2, 2)),\n",
        "        layers.Flatten(),\n",
        "        layers.Dropout(0.5),\n",
        "        layers.Dense(num_classes, activation=\"softmax\"),\n",
        "    ]\n",
        ")\n",
        "\n",
        "model_cnn.summary()"
      ],
      "execution_count": null,
      "outputs": [
        {
          "output_type": "stream",
          "name": "stdout",
          "text": [
            "Model: \"sequential_1\"\n",
            "_________________________________________________________________\n",
            " Layer (type)                Output Shape              Param #   \n",
            "=================================================================\n",
            " conv2d (Conv2D)             (None, 26, 26, 32)        320       \n",
            "                                                                 \n",
            " max_pooling2d (MaxPooling2D  (None, 13, 13, 32)       0         \n",
            " )                                                               \n",
            "                                                                 \n",
            " conv2d_1 (Conv2D)           (None, 11, 11, 64)        18496     \n",
            "                                                                 \n",
            " max_pooling2d_1 (MaxPooling  (None, 5, 5, 64)         0         \n",
            " 2D)                                                             \n",
            "                                                                 \n",
            " flatten (Flatten)           (None, 1600)              0         \n",
            "                                                                 \n",
            " dropout (Dropout)           (None, 1600)              0         \n",
            "                                                                 \n",
            " dense_2 (Dense)             (None, 10)                16010     \n",
            "                                                                 \n",
            "=================================================================\n",
            "Total params: 34,826\n",
            "Trainable params: 34,826\n",
            "Non-trainable params: 0\n",
            "_________________________________________________________________\n"
          ]
        }
      ]
    },
    {
      "cell_type": "markdown",
      "metadata": {
        "id": "9GWxzAaaCqVb"
      },
      "source": [
        "### Configure model"
      ]
    },
    {
      "cell_type": "code",
      "metadata": {
        "id": "TQhlw1_OaQQx"
      },
      "source": [
        "model_cnn.compile(\n",
        "    loss=\"categorical_crossentropy\",\n",
        "    optimizer=\"adam\",\n",
        "    metrics=[\"accuracy\"]\n",
        ")"
      ],
      "execution_count": null,
      "outputs": []
    },
    {
      "cell_type": "markdown",
      "metadata": {
        "id": "COvZ_7gCEjLc"
      },
      "source": [
        "### Prepare the data\n",
        "The CNN does not expect the images to be flattened."
      ]
    },
    {
      "cell_type": "code",
      "metadata": {
        "id": "fPPpaSaUEv-3",
        "colab": {
          "base_uri": "https://localhost:8080/"
        },
        "outputId": "98edc1e3-6333-44fa-b1cd-c2f8bd098f8c"
      },
      "source": [
        "# Reload the data, just in case\n",
        "(X_train, y_train), (X_valid, y_valid) = mnist.load_data()\n",
        "\n",
        "# convert class vectors to binary class matrices\n",
        "y_training = keras.utils.to_categorical(y_train, num_classes)\n",
        "y_validation = keras.utils.to_categorical(y_valid, num_classes)\n",
        "\n",
        "# Scale images to the [0, 1] range\n",
        "X_train_cnn = X_train.astype(\"float32\") / 255\n",
        "X_valid_cnn = X_valid.astype(\"float32\") / 255\n",
        "\n",
        "# Redefine  dimension of train/test inputs\n",
        "X_train_cnn = np.expand_dims(X_train_cnn, -1)\n",
        "X_valid_cnn = np.expand_dims(X_valid_cnn, -1)\n",
        "\n",
        "# Make sure images have shape (28, 28, 1)\n",
        "print(\"x_train shape:\", X_train_cnn.shape)\n",
        "print(X_train_cnn.shape[0], \"train samples\")\n",
        "print(X_valid_cnn.shape[0], \"test samples\")"
      ],
      "execution_count": null,
      "outputs": [
        {
          "output_type": "stream",
          "name": "stdout",
          "text": [
            "x_train shape: (60000, 28, 28, 1)\n",
            "60000 train samples\n",
            "10000 test samples\n"
          ]
        }
      ]
    },
    {
      "cell_type": "markdown",
      "metadata": {
        "id": "yqbkD3arDAI4"
      },
      "source": [
        "### Train!\n"
      ]
    },
    {
      "cell_type": "code",
      "metadata": {
        "id": "1i6Pypg0C4Jq",
        "colab": {
          "base_uri": "https://localhost:8080/"
        },
        "outputId": "a9095fad-aedd-46fe-ba8d-ef26c3a5dd59"
      },
      "source": [
        "batch_size=128\n",
        "epochs=15\n",
        "\n",
        "history = model_cnn.fit(\n",
        "  X_train_cnn, # training data\n",
        "  y_training, # training targets\n",
        "  epochs=epochs,\n",
        "  batch_size=batch_size,\n",
        "  verbose=1,\n",
        "  validation_data=(X_valid_cnn, y_validation)\n",
        ")"
      ],
      "execution_count": null,
      "outputs": [
        {
          "output_type": "stream",
          "name": "stdout",
          "text": [
            "Epoch 1/15\n",
            "469/469 [==============================] - 9s 6ms/step - loss: 0.3345 - accuracy: 0.9014 - val_loss: 0.0783 - val_accuracy: 0.9749\n",
            "Epoch 2/15\n",
            "469/469 [==============================] - 2s 5ms/step - loss: 0.1019 - accuracy: 0.9686 - val_loss: 0.0531 - val_accuracy: 0.9832\n",
            "Epoch 3/15\n",
            "469/469 [==============================] - 3s 5ms/step - loss: 0.0772 - accuracy: 0.9765 - val_loss: 0.0469 - val_accuracy: 0.9855\n",
            "Epoch 4/15\n",
            "469/469 [==============================] - 2s 5ms/step - loss: 0.0633 - accuracy: 0.9802 - val_loss: 0.0365 - val_accuracy: 0.9880\n",
            "Epoch 5/15\n",
            "469/469 [==============================] - 3s 5ms/step - loss: 0.0550 - accuracy: 0.9831 - val_loss: 0.0310 - val_accuracy: 0.9891\n",
            "Epoch 6/15\n",
            "469/469 [==============================] - 2s 5ms/step - loss: 0.0514 - accuracy: 0.9837 - val_loss: 0.0281 - val_accuracy: 0.9900\n",
            "Epoch 7/15\n",
            "469/469 [==============================] - 3s 5ms/step - loss: 0.0469 - accuracy: 0.9855 - val_loss: 0.0267 - val_accuracy: 0.9911\n",
            "Epoch 8/15\n",
            "469/469 [==============================] - 3s 5ms/step - loss: 0.0442 - accuracy: 0.9860 - val_loss: 0.0255 - val_accuracy: 0.9913\n",
            "Epoch 9/15\n",
            "469/469 [==============================] - 2s 5ms/step - loss: 0.0413 - accuracy: 0.9868 - val_loss: 0.0246 - val_accuracy: 0.9906\n",
            "Epoch 10/15\n",
            "469/469 [==============================] - 3s 5ms/step - loss: 0.0385 - accuracy: 0.9884 - val_loss: 0.0242 - val_accuracy: 0.9919\n",
            "Epoch 11/15\n",
            "469/469 [==============================] - 2s 5ms/step - loss: 0.0383 - accuracy: 0.9880 - val_loss: 0.0246 - val_accuracy: 0.9922\n",
            "Epoch 12/15\n",
            "469/469 [==============================] - 2s 5ms/step - loss: 0.0346 - accuracy: 0.9889 - val_loss: 0.0248 - val_accuracy: 0.9911\n",
            "Epoch 13/15\n",
            "469/469 [==============================] - 3s 5ms/step - loss: 0.0323 - accuracy: 0.9894 - val_loss: 0.0240 - val_accuracy: 0.9915\n",
            "Epoch 14/15\n",
            "469/469 [==============================] - 3s 5ms/step - loss: 0.0312 - accuracy: 0.9901 - val_loss: 0.0225 - val_accuracy: 0.9928\n",
            "Epoch 15/15\n",
            "469/469 [==============================] - 3s 5ms/step - loss: 0.0298 - accuracy: 0.9901 - val_loss: 0.0218 - val_accuracy: 0.9929\n"
          ]
        }
      ]
    },
    {
      "cell_type": "markdown",
      "metadata": {
        "id": "4uHN4KNdDC1T"
      },
      "source": [
        "### Plot learning curves"
      ]
    },
    {
      "cell_type": "code",
      "metadata": {
        "id": "yUdOrMVHDGIa",
        "colab": {
          "base_uri": "https://localhost:8080/",
          "height": 591
        },
        "outputId": "0c7a0887-dc4e-45a9-89f8-bc24eb44baff"
      },
      "source": [
        "# list all data in history\n",
        "print(history.history.keys())\n",
        "\n",
        "# summarize history for accuracy\n",
        "plt.plot(history.history['accuracy'])\n",
        "plt.plot(history.history['val_accuracy'])\n",
        "plt.title('model accuracy')\n",
        "plt.ylabel('accuracy')\n",
        "plt.xlabel('epoch')\n",
        "plt.legend(['train', 'test'], loc='upper left')\n",
        "plt.show()\n",
        "\n",
        "# summarize history for loss\n",
        "plt.plot(history.history['loss'])\n",
        "plt.plot(history.history['val_loss'])\n",
        "plt.title('model loss')\n",
        "plt.ylabel('loss')\n",
        "plt.xlabel('epoch')\n",
        "plt.legend(['train', 'test'], loc='upper left')\n",
        "plt.show()"
      ],
      "execution_count": null,
      "outputs": [
        {
          "output_type": "stream",
          "name": "stdout",
          "text": [
            "dict_keys(['loss', 'accuracy', 'val_loss', 'val_accuracy'])\n"
          ]
        },
        {
          "output_type": "display_data",
          "data": {
            "text/plain": [
              "<Figure size 432x288 with 1 Axes>"
            ],
            "image/png": "[encoded data removed]"
          },
          "metadata": {
            "needs_background": "light"
          }
        },
        {
          "output_type": "display_data",
          "data": {
            "text/plain": [
              "<Figure size 432x288 with 1 Axes>"
            ],
            "image/png": "[encoded data removed]"
          },
          "metadata": {
            "needs_background": "light"
          }
        }
      ]
    },
    {
      "cell_type": "markdown",
      "metadata": {
        "id": "oP7csjo2DGag"
      },
      "source": [
        "### Evaluate the model"
      ]
    },
    {
      "cell_type": "code",
      "metadata": {
        "id": "W86Hi07fDICp",
        "colab": {
          "base_uri": "https://localhost:8080/"
        },
        "outputId": "2faf9910-a785-4b60-d5b8-0bc602333608"
      },
      "source": [
        "model_cnn.evaluate(X_valid_cnn, y_validation)"
      ],
      "execution_count": null,
      "outputs": [
        {
          "output_type": "stream",
          "name": "stdout",
          "text": [
            "313/313 [==============================] - 1s 3ms/step - loss: 0.0240 - accuracy: 0.9924\n"
          ]
        },
        {
          "output_type": "execute_result",
          "data": {
            "text/plain": [
              "[0.02395514026284218, 0.9923999905586243]"
            ]
          },
          "metadata": {},
          "execution_count": 29
        }
      ]
    }
  ]
}